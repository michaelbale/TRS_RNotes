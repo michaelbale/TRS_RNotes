{
 "cells": [
  {
   "cell_type": "code",
   "execution_count": 1,
   "metadata": {},
   "outputs": [
    {
     "data": {
      "text/html": [
       "1"
      ],
      "text/latex": [
       "1"
      ],
      "text/markdown": [
       "1"
      ],
      "text/plain": [
       "[1] 1"
      ]
     },
     "metadata": {},
     "output_type": "display_data"
    },
    {
     "data": {
      "text/html": [
       "'string'"
      ],
      "text/latex": [
       "'string'"
      ],
      "text/markdown": [
       "'string'"
      ],
      "text/plain": [
       "[1] \"string\""
      ]
     },
     "metadata": {},
     "output_type": "display_data"
    },
    {
     "data": {
      "text/html": [
       "<ol class=list-inline>\n",
       "\t<li>1</li>\n",
       "\t<li>2</li>\n",
       "\t<li>3</li>\n",
       "\t<li>4</li>\n",
       "</ol>\n"
      ],
      "text/latex": [
       "\\begin{enumerate*}\n",
       "\\item 1\n",
       "\\item 2\n",
       "\\item 3\n",
       "\\item 4\n",
       "\\end{enumerate*}\n"
      ],
      "text/markdown": [
       "1. 1\n",
       "2. 2\n",
       "3. 3\n",
       "4. 4\n",
       "\n",
       "\n"
      ],
      "text/plain": [
       "[1] 1 2 3 4"
      ]
     },
     "metadata": {},
     "output_type": "display_data"
    },
    {
     "data": {
      "text/html": [
       "1"
      ],
      "text/latex": [
       "1"
      ],
      "text/markdown": [
       "1"
      ],
      "text/plain": [
       "[1] 1"
      ]
     },
     "metadata": {},
     "output_type": "display_data"
    },
    {
     "data": {
      "text/html": [
       "10"
      ],
      "text/latex": [
       "10"
      ],
      "text/markdown": [
       "10"
      ],
      "text/plain": [
       "[1] 10"
      ]
     },
     "metadata": {},
     "output_type": "display_data"
    },
    {
     "data": {
      "text/html": [
       "2"
      ],
      "text/latex": [
       "2"
      ],
      "text/markdown": [
       "2"
      ],
      "text/plain": [
       "[1] 2"
      ]
     },
     "metadata": {},
     "output_type": "display_data"
    },
    {
     "data": {
      "text/html": [
       "<ol class=list-inline>\n",
       "\t<li>6</li>\n",
       "\t<li>2</li>\n",
       "\t<li>8</li>\n",
       "\t<li>-9</li>\n",
       "</ol>\n"
      ],
      "text/latex": [
       "\\begin{enumerate*}\n",
       "\\item 6\n",
       "\\item 2\n",
       "\\item 8\n",
       "\\item -9\n",
       "\\end{enumerate*}\n"
      ],
      "text/markdown": [
       "1. 6\n",
       "2. 2\n",
       "3. 8\n",
       "4. -9\n",
       "\n",
       "\n"
      ],
      "text/plain": [
       "[1]  6  2  8 -9"
      ]
     },
     "metadata": {},
     "output_type": "display_data"
    },
    {
     "data": {
      "text/html": [
       "6"
      ],
      "text/latex": [
       "6"
      ],
      "text/markdown": [
       "6"
      ],
      "text/plain": [
       "[1] 6"
      ]
     },
     "metadata": {},
     "output_type": "display_data"
    },
    {
     "data": {
      "text/html": [
       "2"
      ],
      "text/latex": [
       "2"
      ],
      "text/markdown": [
       "2"
      ],
      "text/plain": [
       "[1] 2"
      ]
     },
     "metadata": {},
     "output_type": "display_data"
    },
    {
     "data": {
      "text/html": [
       "<ol class=list-inline>\n",
       "\t<li>2</li>\n",
       "\t<li>8</li>\n",
       "\t<li>-9</li>\n",
       "</ol>\n"
      ],
      "text/latex": [
       "\\begin{enumerate*}\n",
       "\\item 2\n",
       "\\item 8\n",
       "\\item -9\n",
       "\\end{enumerate*}\n"
      ],
      "text/markdown": [
       "1. 2\n",
       "2. 8\n",
       "3. -9\n",
       "\n",
       "\n"
      ],
      "text/plain": [
       "[1]  2  8 -9"
      ]
     },
     "metadata": {},
     "output_type": "display_data"
    },
    {
     "data": {
      "text/html": [
       "<ol class=list-inline>\n",
       "\t<li>6</li>\n",
       "\t<li>8</li>\n",
       "</ol>\n"
      ],
      "text/latex": [
       "\\begin{enumerate*}\n",
       "\\item 6\n",
       "\\item 8\n",
       "\\end{enumerate*}\n"
      ],
      "text/markdown": [
       "1. 6\n",
       "2. 8\n",
       "\n",
       "\n"
      ],
      "text/plain": [
       "[1] 6 8"
      ]
     },
     "metadata": {},
     "output_type": "display_data"
    },
    {
     "data": {
      "text/html": [
       "<ol class=list-inline>\n",
       "\t<li>6</li>\n",
       "\t<li>8</li>\n",
       "\t<li>-9</li>\n",
       "</ol>\n"
      ],
      "text/latex": [
       "\\begin{enumerate*}\n",
       "\\item 6\n",
       "\\item 8\n",
       "\\item -9\n",
       "\\end{enumerate*}\n"
      ],
      "text/markdown": [
       "1. 6\n",
       "2. 8\n",
       "3. -9\n",
       "\n",
       "\n"
      ],
      "text/plain": [
       "[1]  6  8 -9"
      ]
     },
     "metadata": {},
     "output_type": "display_data"
    }
   ],
   "source": [
    "#Basic data types\n",
    "#Numeric\n",
    "1\n",
    "#Character\n",
    "\"string\"\n",
    "#Vector\n",
    "c( 1, 2, 3, 4 ) #N.B. \"c\" is for \"concatenante\"\n",
    "\n",
    "\n",
    "newVar = 1\n",
    "newVar2 <- 10\n",
    "\n",
    "newvar <- 2\n",
    "\n",
    "newVar\n",
    "newVar2\n",
    "newvar\n",
    "#Newvar\n",
    "#Error: object 'Newvar' not found\n",
    "#Captilization matters!\n",
    "\n",
    "newVector <- c(6 ,2,    8 ,-9) #N.B. spacing doesn't matter, but having consistent spacing looks cleaner\n",
    "\n",
    "newVector\n",
    "\n",
    "#Access individual elements of a vector with `[]`\n",
    "newVector[1]\n",
    "newVector[2]\n",
    "\n",
    "#Access ranges using `:`\n",
    "\n",
    "newVector[2:4]\n",
    "\n",
    "#Accessisng elements with vector of indexes\n",
    "\n",
    "newVector[c(1,3)]\n",
    "\n",
    "#Negative indexes\n",
    "newVector[-2]\n"
   ]
  },
  {
   "cell_type": "code",
   "execution_count": 2,
   "metadata": {},
   "outputs": [
    {
     "data": {
      "text/html": [
       "<table>\n",
       "<caption>A matrix: 2 × 4 of type dbl</caption>\n",
       "<tbody>\n",
       "\t<tr><td>1</td><td>3</td><td>5</td><td>7</td></tr>\n",
       "\t<tr><td>2</td><td>4</td><td>6</td><td>8</td></tr>\n",
       "</tbody>\n",
       "</table>\n"
      ],
      "text/latex": [
       "A matrix: 2 × 4 of type dbl\n",
       "\\begin{tabular}{llll}\n",
       "\t 1 & 3 & 5 & 7\\\\\n",
       "\t 2 & 4 & 6 & 8\\\\\n",
       "\\end{tabular}\n"
      ],
      "text/markdown": [
       "\n",
       "A matrix: 2 × 4 of type dbl\n",
       "\n",
       "| 1 | 3 | 5 | 7 |\n",
       "| 2 | 4 | 6 | 8 |\n",
       "\n"
      ],
      "text/plain": [
       "     [,1] [,2] [,3] [,4]\n",
       "[1,] 1    3    5    7   \n",
       "[2,] 2    4    6    8   "
      ]
     },
     "metadata": {},
     "output_type": "display_data"
    },
    {
     "data": {
      "text/html": [
       "<table>\n",
       "<caption>A matrix: 4 × 2 of type dbl</caption>\n",
       "<tbody>\n",
       "\t<tr><td>1</td><td>5</td></tr>\n",
       "\t<tr><td>2</td><td>6</td></tr>\n",
       "\t<tr><td>3</td><td>7</td></tr>\n",
       "\t<tr><td>4</td><td>8</td></tr>\n",
       "</tbody>\n",
       "</table>\n"
      ],
      "text/latex": [
       "A matrix: 4 × 2 of type dbl\n",
       "\\begin{tabular}{ll}\n",
       "\t 1 & 5\\\\\n",
       "\t 2 & 6\\\\\n",
       "\t 3 & 7\\\\\n",
       "\t 4 & 8\\\\\n",
       "\\end{tabular}\n"
      ],
      "text/markdown": [
       "\n",
       "A matrix: 4 × 2 of type dbl\n",
       "\n",
       "| 1 | 5 |\n",
       "| 2 | 6 |\n",
       "| 3 | 7 |\n",
       "| 4 | 8 |\n",
       "\n"
      ],
      "text/plain": [
       "     [,1] [,2]\n",
       "[1,] 1    5   \n",
       "[2,] 2    6   \n",
       "[3,] 3    7   \n",
       "[4,] 4    8   "
      ]
     },
     "metadata": {},
     "output_type": "display_data"
    },
    {
     "data": {
      "text/html": [
       "<table>\n",
       "<caption>A matrix: 2 × 4 of type dbl</caption>\n",
       "<tbody>\n",
       "\t<tr><td>1</td><td>2</td><td>3</td><td>4</td></tr>\n",
       "\t<tr><td>5</td><td>6</td><td>7</td><td>8</td></tr>\n",
       "</tbody>\n",
       "</table>\n"
      ],
      "text/latex": [
       "A matrix: 2 × 4 of type dbl\n",
       "\\begin{tabular}{llll}\n",
       "\t 1 & 2 & 3 & 4\\\\\n",
       "\t 5 & 6 & 7 & 8\\\\\n",
       "\\end{tabular}\n"
      ],
      "text/markdown": [
       "\n",
       "A matrix: 2 × 4 of type dbl\n",
       "\n",
       "| 1 | 2 | 3 | 4 |\n",
       "| 5 | 6 | 7 | 8 |\n",
       "\n"
      ],
      "text/plain": [
       "     [,1] [,2] [,3] [,4]\n",
       "[1,] 1    2    3    4   \n",
       "[2,] 5    6    7    8   "
      ]
     },
     "metadata": {},
     "output_type": "display_data"
    },
    {
     "data": {
      "text/html": [
       "<table>\n",
       "<caption>A matrix: 2 × 2 of type dbl</caption>\n",
       "<tbody>\n",
       "\t<tr><td>6</td><td> 8</td></tr>\n",
       "\t<tr><td>2</td><td>-9</td></tr>\n",
       "</tbody>\n",
       "</table>\n"
      ],
      "text/latex": [
       "A matrix: 2 × 2 of type dbl\n",
       "\\begin{tabular}{ll}\n",
       "\t 6 &  8\\\\\n",
       "\t 2 & -9\\\\\n",
       "\\end{tabular}\n"
      ],
      "text/markdown": [
       "\n",
       "A matrix: 2 × 2 of type dbl\n",
       "\n",
       "| 6 |  8 |\n",
       "| 2 | -9 |\n",
       "\n"
      ],
      "text/plain": [
       "     [,1] [,2]\n",
       "[1,] 6     8  \n",
       "[2,] 2    -9  "
      ]
     },
     "metadata": {},
     "output_type": "display_data"
    }
   ],
   "source": [
    "#\"Complicated\" data types:\n",
    "\n",
    "#matrices\n",
    "\n",
    "#Basically, a two-dimensional vector\n",
    "\n",
    "newMatrix <- matrix(\n",
    "    c(1,2,3,4,5,6,7,8),\n",
    "    nrow=2\n",
    ")\n",
    "\n",
    "newMatrix\n",
    "\n",
    "newMatrix2 <- matrix(\n",
    "    c(1,2,3,4,5,6,7,8),\n",
    "    nrow=4\n",
    ")\n",
    "\n",
    "newMatrix2\n",
    "\n",
    "newMatrix3 <- matrix(\n",
    "    c(1,2,3,4,5,6,7,8),\n",
    "    nrow=2,\n",
    "    byrow = T\n",
    ")\n",
    "\n",
    "newMatrix3\n",
    "#Note the difference between newMatrix and newMatrix3\n",
    "\n",
    "#If you have a pre-formed vector, you just pass that in to matrix()\n",
    "newMatrix4 <- matrix(\n",
    "    newVector,\n",
    "    nrow=2\n",
    ")\n",
    "\n",
    "newMatrix4\n",
    "\n",
    "\n"
   ]
  },
  {
   "cell_type": "code",
   "execution_count": 3,
   "metadata": {},
   "outputs": [
    {
     "data": {
      "text/html": [
       "<table>\n",
       "<caption>A data.frame: 4 × 3</caption>\n",
       "<thead>\n",
       "\t<tr><th scope=col>col1</th><th scope=col>col2</th><th scope=col>col3</th></tr>\n",
       "\t<tr><th scope=col>&lt;dbl&gt;</th><th scope=col>&lt;chr&gt;</th><th scope=col>&lt;chr&gt;</th></tr>\n",
       "</thead>\n",
       "<tbody>\n",
       "\t<tr><td>1</td><td>a</td><td>Hello  </td></tr>\n",
       "\t<tr><td>2</td><td>b</td><td>Hello  </td></tr>\n",
       "\t<tr><td>3</td><td>c</td><td>Goodbye</td></tr>\n",
       "\t<tr><td>4</td><td>d</td><td>Goodbye</td></tr>\n",
       "</tbody>\n",
       "</table>\n"
      ],
      "text/latex": [
       "A data.frame: 4 × 3\n",
       "\\begin{tabular}{r|lll}\n",
       " col1 & col2 & col3\\\\\n",
       " <dbl> & <chr> & <chr>\\\\\n",
       "\\hline\n",
       "\t 1 & a & Hello  \\\\\n",
       "\t 2 & b & Hello  \\\\\n",
       "\t 3 & c & Goodbye\\\\\n",
       "\t 4 & d & Goodbye\\\\\n",
       "\\end{tabular}\n"
      ],
      "text/markdown": [
       "\n",
       "A data.frame: 4 × 3\n",
       "\n",
       "| col1 &lt;dbl&gt; | col2 &lt;chr&gt; | col3 &lt;chr&gt; |\n",
       "|---|---|---|\n",
       "| 1 | a | Hello   |\n",
       "| 2 | b | Hello   |\n",
       "| 3 | c | Goodbye |\n",
       "| 4 | d | Goodbye |\n",
       "\n"
      ],
      "text/plain": [
       "  col1 col2 col3   \n",
       "1 1    a    Hello  \n",
       "2 2    b    Hello  \n",
       "3 3    c    Goodbye\n",
       "4 4    d    Goodbye"
      ]
     },
     "metadata": {},
     "output_type": "display_data"
    },
    {
     "data": {
      "text/html": [
       "<ol class=list-inline>\n",
       "\t<li>1</li>\n",
       "\t<li>2</li>\n",
       "\t<li>3</li>\n",
       "\t<li>4</li>\n",
       "</ol>\n"
      ],
      "text/latex": [
       "\\begin{enumerate*}\n",
       "\\item 1\n",
       "\\item 2\n",
       "\\item 3\n",
       "\\item 4\n",
       "\\end{enumerate*}\n"
      ],
      "text/markdown": [
       "1. 1\n",
       "2. 2\n",
       "3. 3\n",
       "4. 4\n",
       "\n",
       "\n"
      ],
      "text/plain": [
       "[1] 1 2 3 4"
      ]
     },
     "metadata": {},
     "output_type": "display_data"
    },
    {
     "data": {
      "text/html": [
       "<ol class=list-inline>\n",
       "\t<li>'a'</li>\n",
       "\t<li>'b'</li>\n",
       "\t<li>'c'</li>\n",
       "\t<li>'d'</li>\n",
       "</ol>\n"
      ],
      "text/latex": [
       "\\begin{enumerate*}\n",
       "\\item 'a'\n",
       "\\item 'b'\n",
       "\\item 'c'\n",
       "\\item 'd'\n",
       "\\end{enumerate*}\n"
      ],
      "text/markdown": [
       "1. 'a'\n",
       "2. 'b'\n",
       "3. 'c'\n",
       "4. 'd'\n",
       "\n",
       "\n"
      ],
      "text/plain": [
       "[1] \"a\" \"b\" \"c\" \"d\""
      ]
     },
     "metadata": {},
     "output_type": "display_data"
    },
    {
     "data": {
      "text/html": [
       "'c'"
      ],
      "text/latex": [
       "'c'"
      ],
      "text/markdown": [
       "'c'"
      ],
      "text/plain": [
       "[1] \"c\""
      ]
     },
     "metadata": {},
     "output_type": "display_data"
    },
    {
     "data": {
      "text/html": [
       "<ol class=list-inline>\n",
       "\t<li>'a'</li>\n",
       "\t<li>'b'</li>\n",
       "\t<li>'c'</li>\n",
       "</ol>\n"
      ],
      "text/latex": [
       "\\begin{enumerate*}\n",
       "\\item 'a'\n",
       "\\item 'b'\n",
       "\\item 'c'\n",
       "\\end{enumerate*}\n"
      ],
      "text/markdown": [
       "1. 'a'\n",
       "2. 'b'\n",
       "3. 'c'\n",
       "\n",
       "\n"
      ],
      "text/plain": [
       "[1] \"a\" \"b\" \"c\""
      ]
     },
     "metadata": {},
     "output_type": "display_data"
    },
    {
     "data": {
      "text/html": [
       "<ol class=list-inline>\n",
       "\t<li>'a'</li>\n",
       "\t<li>'b'</li>\n",
       "\t<li>'c'</li>\n",
       "\t<li>'d'</li>\n",
       "</ol>\n"
      ],
      "text/latex": [
       "\\begin{enumerate*}\n",
       "\\item 'a'\n",
       "\\item 'b'\n",
       "\\item 'c'\n",
       "\\item 'd'\n",
       "\\end{enumerate*}\n"
      ],
      "text/markdown": [
       "1. 'a'\n",
       "2. 'b'\n",
       "3. 'c'\n",
       "4. 'd'\n",
       "\n",
       "\n"
      ],
      "text/plain": [
       "[1] \"a\" \"b\" \"c\" \"d\""
      ]
     },
     "metadata": {},
     "output_type": "display_data"
    },
    {
     "data": {
      "text/html": [
       "<ol class=list-inline>\n",
       "\t<li>'a'</li>\n",
       "\t<li>'b'</li>\n",
       "\t<li>'c'</li>\n",
       "\t<li>'d'</li>\n",
       "</ol>\n"
      ],
      "text/latex": [
       "\\begin{enumerate*}\n",
       "\\item 'a'\n",
       "\\item 'b'\n",
       "\\item 'c'\n",
       "\\item 'd'\n",
       "\\end{enumerate*}\n"
      ],
      "text/markdown": [
       "1. 'a'\n",
       "2. 'b'\n",
       "3. 'c'\n",
       "4. 'd'\n",
       "\n",
       "\n"
      ],
      "text/plain": [
       "[1] \"a\" \"b\" \"c\" \"d\""
      ]
     },
     "metadata": {},
     "output_type": "display_data"
    },
    {
     "data": {
      "text/html": [
       "<table>\n",
       "<caption>A data.frame: 1 × 3</caption>\n",
       "<thead>\n",
       "\t<tr><th scope=col>col1</th><th scope=col>col2</th><th scope=col>col3</th></tr>\n",
       "\t<tr><th scope=col>&lt;dbl&gt;</th><th scope=col>&lt;chr&gt;</th><th scope=col>&lt;chr&gt;</th></tr>\n",
       "</thead>\n",
       "<tbody>\n",
       "\t<tr><td>1</td><td>a</td><td>Hello</td></tr>\n",
       "</tbody>\n",
       "</table>\n"
      ],
      "text/latex": [
       "A data.frame: 1 × 3\n",
       "\\begin{tabular}{r|lll}\n",
       " col1 & col2 & col3\\\\\n",
       " <dbl> & <chr> & <chr>\\\\\n",
       "\\hline\n",
       "\t 1 & a & Hello\\\\\n",
       "\\end{tabular}\n"
      ],
      "text/markdown": [
       "\n",
       "A data.frame: 1 × 3\n",
       "\n",
       "| col1 &lt;dbl&gt; | col2 &lt;chr&gt; | col3 &lt;chr&gt; |\n",
       "|---|---|---|\n",
       "| 1 | a | Hello |\n",
       "\n"
      ],
      "text/plain": [
       "  col1 col2 col3 \n",
       "1 1    a    Hello"
      ]
     },
     "metadata": {},
     "output_type": "display_data"
    }
   ],
   "source": [
    "#More \"complicated\" data types:\n",
    "\n",
    "#data.frame\n",
    "\n",
    "dataframe <- data.frame(\n",
    "    col1 = c(1,2,3,4),\n",
    "    col2 = c(\"a\", \"b\", \"c\", \"d\"),\n",
    "    col3 = c(\"Hello\", \"Hello\", \"Goodbye\", \"Goodbye\"),\n",
    "    stringsAsFactors=F #We'll get into what this means in a moment\n",
    ")\n",
    "\n",
    "dataframe\n",
    "\n",
    "#retreive columns by `$`\n",
    "dataframe$col1 #This returns a vector represented by column 1\n",
    "\n",
    "dataframe$col2\n",
    "\n",
    "#Dataframes are essentially matrices\n",
    "\n",
    "#get element in row 3 column 2\n",
    "dataframe[3,2]\n",
    "\n",
    "#can use the same principles with vectors\n",
    "dataframe[1:3, 2] #Rows 1 through 3 from column 2\n",
    "\n",
    "#What if you want all rows from two columns\n",
    "#We know that there are 4 rows in this data.frame\n",
    "dataframe[1:4, 2]\n",
    "\n",
    "#What if we didn't know?\n",
    "\n",
    "dataframe[, 2] #N.B. this gives the same result as dataframe$col2\n",
    "\n",
    "#Can do the same with columns\n",
    "\n",
    "dataframe[1, ] #Gives row 1\n"
   ]
  },
  {
   "cell_type": "code",
   "execution_count": 4,
   "metadata": {},
   "outputs": [
    {
     "data": {
      "text/html": [
       "1"
      ],
      "text/latex": [
       "1"
      ],
      "text/markdown": [
       "1"
      ],
      "text/plain": [
       "[1] 1"
      ]
     },
     "metadata": {},
     "output_type": "display_data"
    },
    {
     "data": {
      "text/html": [
       "<ol class=list-inline>\n",
       "\t<li>'Hello'</li>\n",
       "\t<li>'Hello'</li>\n",
       "\t<li>'Goodbye'</li>\n",
       "\t<li>'Goodbye'</li>\n",
       "</ol>\n"
      ],
      "text/latex": [
       "\\begin{enumerate*}\n",
       "\\item 'Hello'\n",
       "\\item 'Hello'\n",
       "\\item 'Goodbye'\n",
       "\\item 'Goodbye'\n",
       "\\end{enumerate*}\n"
      ],
      "text/markdown": [
       "1. 'Hello'\n",
       "2. 'Hello'\n",
       "3. 'Goodbye'\n",
       "4. 'Goodbye'\n",
       "\n",
       "\n"
      ],
      "text/plain": [
       "[1] \"Hello\"   \"Hello\"   \"Goodbye\" \"Goodbye\""
      ]
     },
     "metadata": {},
     "output_type": "display_data"
    },
    {
     "data": {
      "text/html": [
       "<strong>$vectorType</strong> = <ol class=list-inline>\n",
       "\t<li>6</li>\n",
       "\t<li>2</li>\n",
       "\t<li>8</li>\n",
       "\t<li>-9</li>\n",
       "</ol>\n"
      ],
      "text/latex": [
       "\\textbf{\\$vectorType} = \\begin{enumerate*}\n",
       "\\item 6\n",
       "\\item 2\n",
       "\\item 8\n",
       "\\item -9\n",
       "\\end{enumerate*}\n"
      ],
      "text/markdown": [
       "**$vectorType** = 1. 6\n",
       "2. 2\n",
       "3. 8\n",
       "4. -9\n",
       "\n",
       "\n"
      ],
      "text/plain": [
       "$vectorType\n",
       "[1]  6  2  8 -9\n"
      ]
     },
     "metadata": {},
     "output_type": "display_data"
    },
    {
     "data": {
      "text/html": [
       "<ol class=list-inline>\n",
       "\t<li>6</li>\n",
       "\t<li>2</li>\n",
       "\t<li>8</li>\n",
       "\t<li>-9</li>\n",
       "</ol>\n"
      ],
      "text/latex": [
       "\\begin{enumerate*}\n",
       "\\item 6\n",
       "\\item 2\n",
       "\\item 8\n",
       "\\item -9\n",
       "\\end{enumerate*}\n"
      ],
      "text/markdown": [
       "1. 6\n",
       "2. 2\n",
       "3. 8\n",
       "4. -9\n",
       "\n",
       "\n"
      ],
      "text/plain": [
       "[1]  6  2  8 -9"
      ]
     },
     "metadata": {},
     "output_type": "display_data"
    },
    {
     "data": {
      "text/html": [
       "'list'"
      ],
      "text/latex": [
       "'list'"
      ],
      "text/markdown": [
       "'list'"
      ],
      "text/plain": [
       "[1] \"list\""
      ]
     },
     "metadata": {},
     "output_type": "display_data"
    },
    {
     "data": {
      "text/html": [
       "'double'"
      ],
      "text/latex": [
       "'double'"
      ],
      "text/markdown": [
       "'double'"
      ],
      "text/plain": [
       "[1] \"double\""
      ]
     },
     "metadata": {},
     "output_type": "display_data"
    }
   ],
   "source": [
    "#lists\n",
    "\n",
    "#Lists are like vectors\n",
    "#Except you can hold different objects\n",
    "\n",
    "newList <- list(\n",
    "    integerType = newVar,\n",
    "    vectorType = newVector,\n",
    "    dataframeType = dataframe\n",
    ")\n",
    "\n",
    "#Like data.frames, you can access with indexes or `$`\n",
    "\n",
    "newList$integerType\n",
    "\n",
    "newList$dataframeType$col3 #access column 3 of the dataframe contained in the list\n",
    "\n",
    "#The difference of between these next two lines is somewhat semantic, but important\n",
    "newList[2]\n",
    "newList[[2]]\n",
    "\n",
    "typeof(newList[2])\n",
    "typeof(newList[[2]]) #N.B. double is just a type of numeric, but it can be signed i.e. less than zero\n",
    "\n",
    "\n",
    "#Fun fact, a good majority of objects that returned from functions are, in fact, lists!\n",
    "#Just lists by different names"
   ]
  },
  {
   "cell_type": "code",
   "execution_count": 5,
   "metadata": {},
   "outputs": [
    {
     "name": "stdout",
     "output_type": "stream",
     "text": [
      "[1] \"Arithmetic operators:\"\n"
     ]
    },
    {
     "data": {
      "text/html": [
       "4"
      ],
      "text/latex": [
       "4"
      ],
      "text/markdown": [
       "4"
      ],
      "text/plain": [
       "[1] 4"
      ]
     },
     "metadata": {},
     "output_type": "display_data"
    },
    {
     "data": {
      "text/html": [
       "-2"
      ],
      "text/latex": [
       "-2"
      ],
      "text/markdown": [
       "-2"
      ],
      "text/plain": [
       "[1] -2"
      ]
     },
     "metadata": {},
     "output_type": "display_data"
    },
    {
     "data": {
      "text/html": [
       "18"
      ],
      "text/latex": [
       "18"
      ],
      "text/markdown": [
       "18"
      ],
      "text/plain": [
       "[1] 18"
      ]
     },
     "metadata": {},
     "output_type": "display_data"
    },
    {
     "data": {
      "text/html": [
       "6"
      ],
      "text/latex": [
       "6"
      ],
      "text/markdown": [
       "6"
      ],
      "text/plain": [
       "[1] 6"
      ]
     },
     "metadata": {},
     "output_type": "display_data"
    },
    {
     "name": "stdout",
     "output_type": "stream",
     "text": [
      "[1] \"Power operations\"\n"
     ]
    },
    {
     "data": {
      "text/html": [
       "8"
      ],
      "text/latex": [
       "8"
      ],
      "text/markdown": [
       "8"
      ],
      "text/plain": [
       "[1] 8"
      ]
     },
     "metadata": {},
     "output_type": "display_data"
    },
    {
     "data": {
      "text/html": [
       "8"
      ],
      "text/latex": [
       "8"
      ],
      "text/markdown": [
       "8"
      ],
      "text/plain": [
       "[1] 8"
      ]
     },
     "metadata": {},
     "output_type": "display_data"
    },
    {
     "data": {
      "text/html": [
       "9"
      ],
      "text/latex": [
       "9"
      ],
      "text/markdown": [
       "9"
      ],
      "text/plain": [
       "[1] 9"
      ]
     },
     "metadata": {},
     "output_type": "display_data"
    },
    {
     "data": {
      "text/html": [
       "9"
      ],
      "text/latex": [
       "9"
      ],
      "text/markdown": [
       "9"
      ],
      "text/plain": [
       "[1] 9"
      ]
     },
     "metadata": {},
     "output_type": "display_data"
    },
    {
     "name": "stderr",
     "output_type": "stream",
     "text": [
      "Warning message in sqrt(-1):\n",
      "\"NaNs produced\""
     ]
    },
    {
     "data": {
      "text/html": [
       "NaN"
      ],
      "text/latex": [
       "NaN"
      ],
      "text/markdown": [
       "NaN"
      ],
      "text/plain": [
       "[1] NaN"
      ]
     },
     "metadata": {},
     "output_type": "display_data"
    },
    {
     "data": {
      "text/html": [
       "Inf"
      ],
      "text/latex": [
       "Inf"
      ],
      "text/markdown": [
       "Inf"
      ],
      "text/plain": [
       "[1] Inf"
      ]
     },
     "metadata": {},
     "output_type": "display_data"
    },
    {
     "data": {
      "text/html": [
       "-Inf"
      ],
      "text/latex": [
       "-Inf"
      ],
      "text/markdown": [
       "-Inf"
      ],
      "text/plain": [
       "[1] -Inf"
      ]
     },
     "metadata": {},
     "output_type": "display_data"
    },
    {
     "name": "stdout",
     "output_type": "stream",
     "text": [
      "[1] \"Modular arithmetic\"\n"
     ]
    },
    {
     "data": {
      "text/html": [
       "1.5"
      ],
      "text/latex": [
       "1.5"
      ],
      "text/markdown": [
       "1.5"
      ],
      "text/plain": [
       "[1] 1.5"
      ]
     },
     "metadata": {},
     "output_type": "display_data"
    },
    {
     "data": {
      "text/html": [
       "1"
      ],
      "text/latex": [
       "1"
      ],
      "text/markdown": [
       "1"
      ],
      "text/plain": [
       "[1] 1"
      ]
     },
     "metadata": {},
     "output_type": "display_data"
    },
    {
     "data": {
      "text/html": [
       "2"
      ],
      "text/latex": [
       "2"
      ],
      "text/markdown": [
       "2"
      ],
      "text/plain": [
       "[1] 2"
      ]
     },
     "metadata": {},
     "output_type": "display_data"
    },
    {
     "data": {
      "text/html": [
       "<ol class=list-inline>\n",
       "\t<li>12</li>\n",
       "\t<li>4</li>\n",
       "\t<li>16</li>\n",
       "\t<li>-18</li>\n",
       "</ol>\n"
      ],
      "text/latex": [
       "\\begin{enumerate*}\n",
       "\\item 12\n",
       "\\item 4\n",
       "\\item 16\n",
       "\\item -18\n",
       "\\end{enumerate*}\n"
      ],
      "text/markdown": [
       "1. 12\n",
       "2. 4\n",
       "3. 16\n",
       "4. -18\n",
       "\n",
       "\n"
      ],
      "text/plain": [
       "[1]  12   4  16 -18"
      ]
     },
     "metadata": {},
     "output_type": "display_data"
    },
    {
     "data": {
      "text/html": [
       "<ol class=list-inline>\n",
       "\t<li>6</li>\n",
       "\t<li>4</li>\n",
       "\t<li>32</li>\n",
       "\t<li>-54</li>\n",
       "</ol>\n"
      ],
      "text/latex": [
       "\\begin{enumerate*}\n",
       "\\item 6\n",
       "\\item 4\n",
       "\\item 32\n",
       "\\item -54\n",
       "\\end{enumerate*}\n"
      ],
      "text/markdown": [
       "1. 6\n",
       "2. 4\n",
       "3. 32\n",
       "4. -54\n",
       "\n",
       "\n"
      ],
      "text/plain": [
       "[1]   6   4  32 -54"
      ]
     },
     "metadata": {},
     "output_type": "display_data"
    },
    {
     "data": {
      "text/html": [
       "'Hello World'"
      ],
      "text/latex": [
       "'Hello World'"
      ],
      "text/markdown": [
       "'Hello World'"
      ],
      "text/plain": [
       "[1] \"Hello World\""
      ]
     },
     "metadata": {},
     "output_type": "display_data"
    },
    {
     "data": {
      "text/html": [
       "'HelloWorld'"
      ],
      "text/latex": [
       "'HelloWorld'"
      ],
      "text/markdown": [
       "'HelloWorld'"
      ],
      "text/plain": [
       "[1] \"HelloWorld\""
      ]
     },
     "metadata": {},
     "output_type": "display_data"
    },
    {
     "data": {
      "text/html": [
       "<span style=white-space:pre-wrap>'Hello World  '</span>"
      ],
      "text/latex": [
       "'Hello World  '"
      ],
      "text/markdown": [
       "<span style=white-space:pre-wrap>'Hello World  '</span>"
      ],
      "text/plain": [
       "[1] \"Hello World  \""
      ]
     },
     "metadata": {},
     "output_type": "display_data"
    },
    {
     "data": {
      "text/html": [
       "<ol class=list-inline>\n",
       "\t<li>'6 Potato'</li>\n",
       "\t<li>'2 Potato'</li>\n",
       "\t<li>'8 Potato'</li>\n",
       "\t<li>'-9 Potato'</li>\n",
       "</ol>\n"
      ],
      "text/latex": [
       "\\begin{enumerate*}\n",
       "\\item '6 Potato'\n",
       "\\item '2 Potato'\n",
       "\\item '8 Potato'\n",
       "\\item '-9 Potato'\n",
       "\\end{enumerate*}\n"
      ],
      "text/markdown": [
       "1. '6 Potato'\n",
       "2. '2 Potato'\n",
       "3. '8 Potato'\n",
       "4. '-9 Potato'\n",
       "\n",
       "\n"
      ],
      "text/plain": [
       "[1] \"6 Potato\"  \"2 Potato\"  \"8 Potato\"  \"-9 Potato\""
      ]
     },
     "metadata": {},
     "output_type": "display_data"
    }
   ],
   "source": [
    "#Operators\n",
    "\n",
    "#Arithmetic\n",
    "\n",
    "print(\"Arithmetic operators:\")\n",
    "1 + 3\n",
    "\n",
    "1 - 3\n",
    "\n",
    "2 * 9\n",
    "\n",
    "18 / 3\n",
    "\n",
    "print(\"Power operations\")\n",
    "2**3\n",
    "2^3\n",
    "\n",
    "81^(1/2)\n",
    "sqrt(81)\n",
    "\n",
    "sqrt(-1) #only real numbers here -- NaN is typically a good indication that something went awry\n",
    "1/0 #Inf -- also a pretty good indicator of weirdness\n",
    "\n",
    "-1/0 #Inf can be signed too\n",
    "\n",
    "print(\"Modular arithmetic\")\n",
    "3/2\n",
    "3%%2\n",
    "5%/%2\n",
    "\n",
    "#vector math\n",
    "\n",
    "newVector * 2\n",
    "\n",
    "vector2 <- c(1,2,4, 6)\n",
    "\n",
    "newVector * vector2\n",
    "\n",
    "\n",
    "#Strings!\n",
    "\n",
    "#\"Hello\" + \"World\"\n",
    "#Unlike in other programming langauges were the above line would automatically combine the two strings, R doesn't do this\n",
    "#Instead, use paste or paste0\n",
    "\n",
    "paste(\"Hello\", \"World\")\n",
    "paste0(\"Hello\", \"World\")\n",
    "#There's a third argument for `paste` called 'sep' where you can define the separating character\n",
    "paste(\"Hello\", \"World\", ' ')\n",
    "\n",
    "#Vectorization\n",
    "paste(as.character(newVector), \"Potato\")\n",
    "#N.B. you can force numbers to be strings and strings to be numbers -- assuming the character is a number"
   ]
  },
  {
   "cell_type": "code",
   "execution_count": 6,
   "metadata": {},
   "outputs": [
    {
     "data": {
      "text/html": [
       "TRUE"
      ],
      "text/latex": [
       "TRUE"
      ],
      "text/markdown": [
       "TRUE"
      ],
      "text/plain": [
       "[1] TRUE"
      ]
     },
     "metadata": {},
     "output_type": "display_data"
    },
    {
     "data": {
      "text/html": [
       "FALSE"
      ],
      "text/latex": [
       "FALSE"
      ],
      "text/markdown": [
       "FALSE"
      ],
      "text/plain": [
       "[1] FALSE"
      ]
     },
     "metadata": {},
     "output_type": "display_data"
    },
    {
     "data": {
      "text/html": [
       "FALSE"
      ],
      "text/latex": [
       "FALSE"
      ],
      "text/markdown": [
       "FALSE"
      ],
      "text/plain": [
       "[1] FALSE"
      ]
     },
     "metadata": {},
     "output_type": "display_data"
    },
    {
     "data": {
      "text/html": [
       "TRUE"
      ],
      "text/latex": [
       "TRUE"
      ],
      "text/markdown": [
       "TRUE"
      ],
      "text/plain": [
       "[1] TRUE"
      ]
     },
     "metadata": {},
     "output_type": "display_data"
    },
    {
     "data": {
      "text/html": [
       "FALSE"
      ],
      "text/latex": [
       "FALSE"
      ],
      "text/markdown": [
       "FALSE"
      ],
      "text/plain": [
       "[1] FALSE"
      ]
     },
     "metadata": {},
     "output_type": "display_data"
    },
    {
     "data": {
      "text/html": [
       "TRUE"
      ],
      "text/latex": [
       "TRUE"
      ],
      "text/markdown": [
       "TRUE"
      ],
      "text/plain": [
       "[1] TRUE"
      ]
     },
     "metadata": {},
     "output_type": "display_data"
    },
    {
     "data": {
      "text/html": [
       "FALSE"
      ],
      "text/latex": [
       "FALSE"
      ],
      "text/markdown": [
       "FALSE"
      ],
      "text/plain": [
       "[1] FALSE"
      ]
     },
     "metadata": {},
     "output_type": "display_data"
    },
    {
     "data": {
      "text/html": [
       "TRUE"
      ],
      "text/latex": [
       "TRUE"
      ],
      "text/markdown": [
       "TRUE"
      ],
      "text/plain": [
       "[1] TRUE"
      ]
     },
     "metadata": {},
     "output_type": "display_data"
    },
    {
     "data": {
      "text/html": [
       "TRUE"
      ],
      "text/latex": [
       "TRUE"
      ],
      "text/markdown": [
       "TRUE"
      ],
      "text/plain": [
       "[1] TRUE"
      ]
     },
     "metadata": {},
     "output_type": "display_data"
    },
    {
     "data": {
      "text/html": [
       "FALSE"
      ],
      "text/latex": [
       "FALSE"
      ],
      "text/markdown": [
       "FALSE"
      ],
      "text/plain": [
       "[1] FALSE"
      ]
     },
     "metadata": {},
     "output_type": "display_data"
    },
    {
     "data": {
      "text/html": [
       "<ol class=list-inline>\n",
       "\t<li>TRUE</li>\n",
       "\t<li>TRUE</li>\n",
       "\t<li>TRUE</li>\n",
       "\t<li>FALSE</li>\n",
       "</ol>\n"
      ],
      "text/latex": [
       "\\begin{enumerate*}\n",
       "\\item TRUE\n",
       "\\item TRUE\n",
       "\\item TRUE\n",
       "\\item FALSE\n",
       "\\end{enumerate*}\n"
      ],
      "text/markdown": [
       "1. TRUE\n",
       "2. TRUE\n",
       "3. TRUE\n",
       "4. FALSE\n",
       "\n",
       "\n"
      ],
      "text/plain": [
       "[1]  TRUE  TRUE  TRUE FALSE"
      ]
     },
     "metadata": {},
     "output_type": "display_data"
    },
    {
     "data": {
      "text/html": [
       "3"
      ],
      "text/latex": [
       "3"
      ],
      "text/markdown": [
       "3"
      ],
      "text/plain": [
       "[1] 3"
      ]
     },
     "metadata": {},
     "output_type": "display_data"
    },
    {
     "data": {
      "text/html": [
       "FALSE"
      ],
      "text/latex": [
       "FALSE"
      ],
      "text/markdown": [
       "FALSE"
      ],
      "text/plain": [
       "[1] FALSE"
      ]
     },
     "metadata": {},
     "output_type": "display_data"
    }
   ],
   "source": [
    "#Conditionals\n",
    "\n",
    "#equality\n",
    "\n",
    "1==1\n",
    "1==2\n",
    "1!=1\n",
    "1!=2\n",
    "\n",
    "#comparative\n",
    "1>2\n",
    "1<2\n",
    "1>1\n",
    "1>=1\n",
    "2<=2\n",
    "2<2\n",
    "\n",
    "\n",
    "#Atomization\n",
    "1 <= newVector #c(6, 2, 8, -9)\n",
    "\n",
    "#N.B. TRUE and FALSE have numerical values as well!\n",
    "#TRUE == 1 and FALSE == 0, so we can do something like this!\n",
    "\n",
    "sum(newVector %% 2 == 0)\n",
    "\n",
    "#strings\n",
    "\"Hello\" == \"hello\" #Capitalization matters!\n",
    "\n"
   ]
  },
  {
   "cell_type": "code",
   "execution_count": 7,
   "metadata": {},
   "outputs": [
    {
     "name": "stdout",
     "output_type": "stream",
     "text": [
      "[1] \"Yuh-yeet!\"\n",
      "[1] \"we finally made it!\"\n"
     ]
    },
    {
     "data": {
      "text/html": [
       "'Si la condicion es falsa'"
      ],
      "text/latex": [
       "'Si la condicion es falsa'"
      ],
      "text/markdown": [
       "'Si la condicion es falsa'"
      ],
      "text/plain": [
       "[1] \"Si la condicion es falsa\""
      ]
     },
     "metadata": {},
     "output_type": "display_data"
    },
    {
     "data": {
      "text/html": [
       "<ol class=list-inline>\n",
       "\t<li>'if the condition is false'</li>\n",
       "\t<li>'if the condition is false'</li>\n",
       "\t<li>'si la condicion es verdadera'</li>\n",
       "\t<li>'if the condition is false'</li>\n",
       "</ol>\n"
      ],
      "text/latex": [
       "\\begin{enumerate*}\n",
       "\\item 'if the condition is false'\n",
       "\\item 'if the condition is false'\n",
       "\\item 'si la condicion es verdadera'\n",
       "\\item 'if the condition is false'\n",
       "\\end{enumerate*}\n"
      ],
      "text/markdown": [
       "1. 'if the condition is false'\n",
       "2. 'if the condition is false'\n",
       "3. 'si la condicion es verdadera'\n",
       "4. 'if the condition is false'\n",
       "\n",
       "\n"
      ],
      "text/plain": [
       "[1] \"if the condition is false\"    \"if the condition is false\"   \n",
       "[3] \"si la condicion es verdadera\" \"if the condition is false\"   "
      ]
     },
     "metadata": {},
     "output_type": "display_data"
    }
   ],
   "source": [
    "#Conditions!\n",
    "\n",
    "#if-else\n",
    "#If statements ask a question and execute subsequent code if that condition is true\n",
    "\n",
    "testVal <- 4\n",
    "\n",
    "if(testVal == 4) {\n",
    "    print(\"Yuh-yeet!\")\n",
    "} \n",
    "\n",
    "if(testVal == 9) {\n",
    "    print(\"Well, that's unexpected\")\n",
    "} else if(testVal == 15) {\n",
    "    print(\"still quite weird\")\n",
    "} else {\n",
    "    print(\"we finally made it!\")\n",
    "}\n",
    "    \n",
    "# neat function: ifelse\n",
    "    \n",
    "ifelse(testVal == 3, \"if the condition is true\", \"Si la condicion es falsa\")\n",
    "\n",
    "testVec <- c(1,2,3,4)\n",
    "\n",
    "#vectorization!\n",
    "ifelse(testVec == 3, \"si la condicion es verdadera\", \"if the condition is false\")"
   ]
  },
  {
   "cell_type": "code",
   "execution_count": 8,
   "metadata": {},
   "outputs": [
    {
     "name": "stdout",
     "output_type": "stream",
     "text": [
      "[1] 1\n",
      "[1] 1\n",
      "[1] 2\n",
      "[1] 4\n",
      "[1] 3\n",
      "[1] 9\n",
      "[1] 4\n",
      "[1] 16\n",
      "[1] 5\n",
      "[1] 25\n",
      "[1] 6\n",
      "[1] 36\n",
      "[1] 7\n",
      "[1] \"We can do many things within this block!\"\n",
      "[1] 49\n",
      "[1] 8\n",
      "[1] 64\n",
      "[1] 9\n",
      "[1] 81\n",
      "[1] 10\n",
      "[1] 100\n"
     ]
    }
   ],
   "source": [
    "#the real power of coding!\n",
    "#Looping\n",
    "\n",
    "#Basic construct\n",
    "\n",
    "\n",
    "#for(index in iterable) {\n",
    "#    do code\n",
    "#}\n",
    "\n",
    "for(index in 1:10) {\n",
    "    print(index)\n",
    "    if(index == 7) {\n",
    "        print(\"We can do many things within this block!\")\n",
    "    }\n",
    "    print(index*index)\n",
    "}\n",
    "\n"
   ]
  },
  {
   "cell_type": "code",
   "execution_count": 9,
   "metadata": {},
   "outputs": [
    {
     "name": "stdout",
     "output_type": "stream",
     "text": [
      "[1] 6\n",
      "[1] 2\n",
      "[1] 8\n",
      "[1] -9\n"
     ]
    }
   ],
   "source": [
    "#an iterable can be anything that can be iterated over\n",
    "#basically 1:10 is equal to c(1, 2, 3, 4, 5, 6, 7, 8, 9, 10)\n",
    "\n",
    "for(index in newVector) {\n",
    "    print(index)\n",
    "}"
   ]
  },
  {
   "cell_type": "code",
   "execution_count": 10,
   "metadata": {},
   "outputs": [
    {
     "data": {
      "text/html": [
       "4"
      ],
      "text/latex": [
       "4"
      ],
      "text/markdown": [
       "4"
      ],
      "text/plain": [
       "[1] 4"
      ]
     },
     "metadata": {},
     "output_type": "display_data"
    },
    {
     "data": {
      "text/html": [
       "2"
      ],
      "text/latex": [
       "2"
      ],
      "text/markdown": [
       "2"
      ],
      "text/plain": [
       "[1] 2"
      ]
     },
     "metadata": {},
     "output_type": "display_data"
    },
    {
     "data": {
      "text/html": [
       "4"
      ],
      "text/latex": [
       "4"
      ],
      "text/markdown": [
       "4"
      ],
      "text/plain": [
       "[1] 4"
      ]
     },
     "metadata": {},
     "output_type": "display_data"
    },
    {
     "data": {
      "text/html": [
       "<ol class=list-inline>\n",
       "\t<li>2</li>\n",
       "\t<li>4</li>\n",
       "</ol>\n"
      ],
      "text/latex": [
       "\\begin{enumerate*}\n",
       "\\item 2\n",
       "\\item 4\n",
       "\\end{enumerate*}\n"
      ],
      "text/markdown": [
       "1. 2\n",
       "2. 4\n",
       "\n",
       "\n"
      ],
      "text/plain": [
       "[1] 2 4"
      ]
     },
     "metadata": {},
     "output_type": "display_data"
    },
    {
     "data": {
      "text/html": [
       "<ol class=list-inline>\n",
       "\t<li>4</li>\n",
       "\t<li>3</li>\n",
       "</ol>\n"
      ],
      "text/latex": [
       "\\begin{enumerate*}\n",
       "\\item 4\n",
       "\\item 3\n",
       "\\end{enumerate*}\n"
      ],
      "text/markdown": [
       "1. 4\n",
       "2. 3\n",
       "\n",
       "\n"
      ],
      "text/plain": [
       "[1] 4 3"
      ]
     },
     "metadata": {},
     "output_type": "display_data"
    },
    {
     "data": {
      "text/html": [
       "3"
      ],
      "text/latex": [
       "3"
      ],
      "text/markdown": [
       "3"
      ],
      "text/plain": [
       "[1] 3"
      ]
     },
     "metadata": {},
     "output_type": "display_data"
    },
    {
     "data": {
      "text/html": [
       "<ol>\n",
       "\t<li><ol class=list-inline>\n",
       "\t<li>'1'</li>\n",
       "\t<li>'2'</li>\n",
       "\t<li>'3'</li>\n",
       "\t<li>'4'</li>\n",
       "</ol>\n",
       "</li>\n",
       "\t<li><ol class=list-inline>\n",
       "\t<li>'col1'</li>\n",
       "\t<li>'col2'</li>\n",
       "\t<li>'col3'</li>\n",
       "</ol>\n",
       "</li>\n",
       "</ol>\n"
      ],
      "text/latex": [
       "\\begin{enumerate}\n",
       "\\item \\begin{enumerate*}\n",
       "\\item '1'\n",
       "\\item '2'\n",
       "\\item '3'\n",
       "\\item '4'\n",
       "\\end{enumerate*}\n",
       "\n",
       "\\item \\begin{enumerate*}\n",
       "\\item 'col1'\n",
       "\\item 'col2'\n",
       "\\item 'col3'\n",
       "\\end{enumerate*}\n",
       "\n",
       "\\end{enumerate}\n"
      ],
      "text/markdown": [
       "1. 1. '1'\n",
       "2. '2'\n",
       "3. '3'\n",
       "4. '4'\n",
       "\n",
       "\n",
       "\n",
       "2. 1. 'col1'\n",
       "2. 'col2'\n",
       "3. 'col3'\n",
       "\n",
       "\n",
       "\n",
       "\n",
       "\n"
      ],
      "text/plain": [
       "[[1]]\n",
       "[1] \"1\" \"2\" \"3\" \"4\"\n",
       "\n",
       "[[2]]\n",
       "[1] \"col1\" \"col2\" \"col3\"\n"
      ]
     },
     "metadata": {},
     "output_type": "display_data"
    },
    {
     "data": {
      "text/html": [
       "<ol class=list-inline>\n",
       "\t<li>'col1'</li>\n",
       "\t<li>'col2'</li>\n",
       "\t<li>'col3'</li>\n",
       "</ol>\n"
      ],
      "text/latex": [
       "\\begin{enumerate*}\n",
       "\\item 'col1'\n",
       "\\item 'col2'\n",
       "\\item 'col3'\n",
       "\\end{enumerate*}\n"
      ],
      "text/markdown": [
       "1. 'col1'\n",
       "2. 'col2'\n",
       "3. 'col3'\n",
       "\n",
       "\n"
      ],
      "text/plain": [
       "[1] \"col1\" \"col2\" \"col3\""
      ]
     },
     "metadata": {},
     "output_type": "display_data"
    },
    {
     "data": {
      "text/html": [
       "1"
      ],
      "text/latex": [
       "1"
      ],
      "text/markdown": [
       "1"
      ],
      "text/plain": [
       "[1] 1"
      ]
     },
     "metadata": {},
     "output_type": "display_data"
    },
    {
     "data": {
      "text/html": [
       "5"
      ],
      "text/latex": [
       "5"
      ],
      "text/markdown": [
       "5"
      ],
      "text/plain": [
       "[1] 5"
      ]
     },
     "metadata": {},
     "output_type": "display_data"
    },
    {
     "data": {
      "text/html": [
       "'ell'"
      ],
      "text/latex": [
       "'ell'"
      ],
      "text/markdown": [
       "'ell'"
      ],
      "text/plain": [
       "[1] \"ell\""
      ]
     },
     "metadata": {},
     "output_type": "display_data"
    }
   ],
   "source": [
    "#Basic R functions\n",
    "\n",
    "#getting attributes of your objects\n",
    "\n",
    "length(newVector)\n",
    "nrow(newMatrix)\n",
    "ncol(newMatrix)\n",
    "dim(newMatrix)\n",
    "dim(dataframe)\n",
    "length(dataframe) #N.B. gives the number of columns\n",
    "dimnames(dataframe)\n",
    "colnames(dataframe)\n",
    "\n",
    "#strings\n",
    "length(\"Hello\")\n",
    "nchar(\"Hello\")\n",
    "substr(\"Hello\", 2, 4)\n",
    "\n",
    "#Can use regular expressions with strsplit, grep, etc but won't talk about that here"
   ]
  },
  {
   "cell_type": "code",
   "execution_count": 11,
   "metadata": {},
   "outputs": [],
   "source": [
    "#More advanced data-wrangling\n",
    "\n",
    "#R Doesn't like for loops that much\n",
    "\n",
    "#Apply family:\n",
    "\n",
    "#Let's generate 10 dataframes in a list and do t-tests over them\n",
    "\n",
    "baseName <- \"df\"\n",
    "\n",
    "df.list <- list()\n",
    "\n",
    "for(i in 1:10) {\n",
    "    #df.list[x] names the dataframe\n",
    "    df.list[[paste0(baseName, i)]] <- data.frame(\n",
    "        #rnorm is a function that will generate n numbers from a normal distribution with\n",
    "        #mean and sd -- these are the 1st, 2nd, and 3rd args respectively.\n",
    "        #runif is a similar function but using a uniform distribution from min to max\n",
    "        #n, min, and max are again the 1st, 2nd, and 3rd args respectively.\n",
    "        x1 = rnorm(50, runif(1, 0, 5), runif(1, 0, 3)),\n",
    "        x2 = rnorm(50, runif(1, 0, 5), runif(1, 0, 3))\n",
    "    )\n",
    "}\n",
    "\n",
    "\n",
    "#generally, you'd think you'd just want to do something like this:\n",
    "ttest.res <- list()\n",
    "for(i in 1:length(df.list)){\n",
    "    ttest.res[[paste0(baseName, i)]] <- t.test(df.list[[i]]$x1, df.list[[i]]$x2)$p.value\n",
    "}\n"
   ]
  },
  {
   "cell_type": "code",
   "execution_count": 12,
   "metadata": {},
   "outputs": [
    {
     "data": {
      "text/html": [
       "<dl>\n",
       "\t<dt>$df1</dt>\n",
       "\t\t<dd>0.788420382772156</dd>\n",
       "\t<dt>$df2</dt>\n",
       "\t\t<dd>0.60118296818855</dd>\n",
       "\t<dt>$df3</dt>\n",
       "\t\t<dd>1.45055827711718e-06</dd>\n",
       "\t<dt>$df4</dt>\n",
       "\t\t<dd>0.24374888068557</dd>\n",
       "\t<dt>$df5</dt>\n",
       "\t\t<dd>0.000652834647206914</dd>\n",
       "\t<dt>$df6</dt>\n",
       "\t\t<dd>0.000275394866730895</dd>\n",
       "\t<dt>$df7</dt>\n",
       "\t\t<dd>0.369122990396027</dd>\n",
       "\t<dt>$df8</dt>\n",
       "\t\t<dd>2.85140832488995e-07</dd>\n",
       "\t<dt>$df9</dt>\n",
       "\t\t<dd>2.39782596353749e-40</dd>\n",
       "\t<dt>$df10</dt>\n",
       "\t\t<dd>9.24592532639022e-34</dd>\n",
       "</dl>\n"
      ],
      "text/latex": [
       "\\begin{description}\n",
       "\\item[\\$df1] 0.788420382772156\n",
       "\\item[\\$df2] 0.60118296818855\n",
       "\\item[\\$df3] 1.45055827711718e-06\n",
       "\\item[\\$df4] 0.24374888068557\n",
       "\\item[\\$df5] 0.000652834647206914\n",
       "\\item[\\$df6] 0.000275394866730895\n",
       "\\item[\\$df7] 0.369122990396027\n",
       "\\item[\\$df8] 2.85140832488995e-07\n",
       "\\item[\\$df9] 2.39782596353749e-40\n",
       "\\item[\\$df10] 9.24592532639022e-34\n",
       "\\end{description}\n"
      ],
      "text/markdown": [
       "$df1\n",
       ":   0.788420382772156\n",
       "$df2\n",
       ":   0.60118296818855\n",
       "$df3\n",
       ":   1.45055827711718e-06\n",
       "$df4\n",
       ":   0.24374888068557\n",
       "$df5\n",
       ":   0.000652834647206914\n",
       "$df6\n",
       ":   0.000275394866730895\n",
       "$df7\n",
       ":   0.369122990396027\n",
       "$df8\n",
       ":   2.85140832488995e-07\n",
       "$df9\n",
       ":   2.39782596353749e-40\n",
       "$df10\n",
       ":   9.24592532639022e-34\n",
       "\n",
       "\n"
      ],
      "text/plain": [
       "$df1\n",
       "[1] 0.7884204\n",
       "\n",
       "$df2\n",
       "[1] 0.601183\n",
       "\n",
       "$df3\n",
       "[1] 1.450558e-06\n",
       "\n",
       "$df4\n",
       "[1] 0.2437489\n",
       "\n",
       "$df5\n",
       "[1] 0.0006528346\n",
       "\n",
       "$df6\n",
       "[1] 0.0002753949\n",
       "\n",
       "$df7\n",
       "[1] 0.369123\n",
       "\n",
       "$df8\n",
       "[1] 2.851408e-07\n",
       "\n",
       "$df9\n",
       "[1] 2.397826e-40\n",
       "\n",
       "$df10\n",
       "[1] 9.245925e-34\n"
      ]
     },
     "metadata": {},
     "output_type": "display_data"
    }
   ],
   "source": [
    "ttest.res"
   ]
  },
  {
   "cell_type": "code",
   "execution_count": 13,
   "metadata": {},
   "outputs": [
    {
     "data": {
      "text/html": [
       "<dl>\n",
       "\t<dt>$df1</dt>\n",
       "\t\t<dd>0.788420382772156</dd>\n",
       "\t<dt>$df2</dt>\n",
       "\t\t<dd>0.60118296818855</dd>\n",
       "\t<dt>$df3</dt>\n",
       "\t\t<dd>1.45055827711718e-06</dd>\n",
       "\t<dt>$df4</dt>\n",
       "\t\t<dd>0.24374888068557</dd>\n",
       "\t<dt>$df5</dt>\n",
       "\t\t<dd>0.000652834647206914</dd>\n",
       "\t<dt>$df6</dt>\n",
       "\t\t<dd>0.000275394866730895</dd>\n",
       "\t<dt>$df7</dt>\n",
       "\t\t<dd>0.369122990396027</dd>\n",
       "\t<dt>$df8</dt>\n",
       "\t\t<dd>2.85140832488995e-07</dd>\n",
       "\t<dt>$df9</dt>\n",
       "\t\t<dd>2.39782596353749e-40</dd>\n",
       "\t<dt>$df10</dt>\n",
       "\t\t<dd>9.24592532639022e-34</dd>\n",
       "</dl>\n"
      ],
      "text/latex": [
       "\\begin{description}\n",
       "\\item[\\$df1] 0.788420382772156\n",
       "\\item[\\$df2] 0.60118296818855\n",
       "\\item[\\$df3] 1.45055827711718e-06\n",
       "\\item[\\$df4] 0.24374888068557\n",
       "\\item[\\$df5] 0.000652834647206914\n",
       "\\item[\\$df6] 0.000275394866730895\n",
       "\\item[\\$df7] 0.369122990396027\n",
       "\\item[\\$df8] 2.85140832488995e-07\n",
       "\\item[\\$df9] 2.39782596353749e-40\n",
       "\\item[\\$df10] 9.24592532639022e-34\n",
       "\\end{description}\n"
      ],
      "text/markdown": [
       "$df1\n",
       ":   0.788420382772156\n",
       "$df2\n",
       ":   0.60118296818855\n",
       "$df3\n",
       ":   1.45055827711718e-06\n",
       "$df4\n",
       ":   0.24374888068557\n",
       "$df5\n",
       ":   0.000652834647206914\n",
       "$df6\n",
       ":   0.000275394866730895\n",
       "$df7\n",
       ":   0.369122990396027\n",
       "$df8\n",
       ":   2.85140832488995e-07\n",
       "$df9\n",
       ":   2.39782596353749e-40\n",
       "$df10\n",
       ":   9.24592532639022e-34\n",
       "\n",
       "\n"
      ],
      "text/plain": [
       "$df1\n",
       "[1] 0.7884204\n",
       "\n",
       "$df2\n",
       "[1] 0.601183\n",
       "\n",
       "$df3\n",
       "[1] 1.450558e-06\n",
       "\n",
       "$df4\n",
       "[1] 0.2437489\n",
       "\n",
       "$df5\n",
       "[1] 0.0006528346\n",
       "\n",
       "$df6\n",
       "[1] 0.0002753949\n",
       "\n",
       "$df7\n",
       "[1] 0.369123\n",
       "\n",
       "$df8\n",
       "[1] 2.851408e-07\n",
       "\n",
       "$df9\n",
       "[1] 2.397826e-40\n",
       "\n",
       "$df10\n",
       "[1] 9.245925e-34\n"
      ]
     },
     "metadata": {},
     "output_type": "display_data"
    },
    {
     "data": {
      "text/html": [
       "<ol>\n",
       "\t<li>4.97712651693357e-07</li>\n",
       "\t<li>0.00748512801716278</li>\n",
       "\t<li>0.0148509153231677</li>\n",
       "\t<li>2.25974756578997e-37</li>\n",
       "\t<li>3.45754747942013e-26</li>\n",
       "\t<li>0.00195137791718907</li>\n",
       "\t<li>6.0793941761086e-08</li>\n",
       "\t<li>1.9216712313331e-19</li>\n",
       "\t<li>1.58549574652074e-14</li>\n",
       "\t<li>0.593985900788873</li>\n",
       "</ol>\n"
      ],
      "text/latex": [
       "\\begin{enumerate}\n",
       "\\item 4.97712651693357e-07\n",
       "\\item 0.00748512801716278\n",
       "\\item 0.0148509153231677\n",
       "\\item 2.25974756578997e-37\n",
       "\\item 3.45754747942013e-26\n",
       "\\item 0.00195137791718907\n",
       "\\item 6.0793941761086e-08\n",
       "\\item 1.9216712313331e-19\n",
       "\\item 1.58549574652074e-14\n",
       "\\item 0.593985900788873\n",
       "\\end{enumerate}\n"
      ],
      "text/markdown": [
       "1. 4.97712651693357e-07\n",
       "2. 0.00748512801716278\n",
       "3. 0.0148509153231677\n",
       "4. 2.25974756578997e-37\n",
       "5. 3.45754747942013e-26\n",
       "6. 0.00195137791718907\n",
       "7. 6.0793941761086e-08\n",
       "8. 1.9216712313331e-19\n",
       "9. 1.58549574652074e-14\n",
       "10. 0.593985900788873\n",
       "\n",
       "\n"
      ],
      "text/plain": [
       "[[1]]\n",
       "[1] 4.977127e-07\n",
       "\n",
       "[[2]]\n",
       "[1] 0.007485128\n",
       "\n",
       "[[3]]\n",
       "[1] 0.01485092\n",
       "\n",
       "[[4]]\n",
       "[1] 2.259748e-37\n",
       "\n",
       "[[5]]\n",
       "[1] 3.457547e-26\n",
       "\n",
       "[[6]]\n",
       "[1] 0.001951378\n",
       "\n",
       "[[7]]\n",
       "[1] 6.079394e-08\n",
       "\n",
       "[[8]]\n",
       "[1] 1.921671e-19\n",
       "\n",
       "[[9]]\n",
       "[1] 1.585496e-14\n",
       "\n",
       "[[10]]\n",
       "[1] 0.5939859\n"
      ]
     },
     "metadata": {},
     "output_type": "display_data"
    }
   ],
   "source": [
    "#lapply\n",
    "\n",
    "#So, lapply can be thought of \"Apply to List\"\n",
    "\n",
    "#basically the idea is lapply(LIST, FUNCTION)\n",
    "#It is read as apply FUNCTION to each object in LIST and output as newLIST\n",
    "\n",
    "lapply(df.list, function(x) t.test(x$x1, x$x2)$p.value)\n",
    "#i.e. above, we are applying t.test(X, Y)$p.value to each element in the list df.list\n",
    "#you can make this function as simple or complicated as you wish\n",
    "       \n",
    "#as an aside, if you want to do something a bit more complicated, I would suggest\n",
    "#creating a custom function and passing that function into lapply instead of writing\n",
    "#the function in the lapply call itself\n",
    "       \n",
    "#e.g. you could instead do this for your lapply call:\n",
    "#getTTestRes <- function(x) {\n",
    "#       t.test(x$x1, x$x2)$p.value\n",
    "#}\n",
    "#and then call lapply like this:\n",
    "#lapply(df.list, getTTestRes)\n",
    "#or lapply(df.list, function(x) getTTestRes(x))\n",
    "\n",
    "#I'm going to go over making custom functions and OOP in functions.ipynb if you're interested\n",
    "#It'll also be in the GH repo\n",
    "       \n",
    "       \n",
    "#Actually, we could do both for loops in apply functions:\n",
    "#Replicate is the form you would use if you wanted to do something n times\n",
    "newDF.list <- replicate(\n",
    "    10,\n",
    "    data.frame(\n",
    "        x1 = rnorm(50, runif(1, 0, 5), runif(1, 0, 3)),\n",
    "        x2 = rnorm(50, runif(1, 0, 5), runif(1, 0, 3))\n",
    "    ),\n",
    "    #the simplify argument is used here to either create a matrix/vector (simplify = T)\n",
    "    #or keep the output as a list (simplify = F)\n",
    "    #I want a list, so simplify = FALSE\n",
    "    simplify=F\n",
    ")\n",
    "lapply(newDF.list, function(x) t.test(x$x1, x$x2)$p.value)"
   ]
  },
  {
   "cell_type": "code",
   "execution_count": 14,
   "metadata": {
    "scrolled": false
   },
   "outputs": [
    {
     "data": {
      "text/html": [
       "<dl class=dl-horizontal>\n",
       "\t<dt>df1</dt>\n",
       "\t\t<dd>0.788420382772156</dd>\n",
       "\t<dt>df2</dt>\n",
       "\t\t<dd>0.60118296818855</dd>\n",
       "\t<dt>df3</dt>\n",
       "\t\t<dd>1.45055827711718e-06</dd>\n",
       "\t<dt>df4</dt>\n",
       "\t\t<dd>0.24374888068557</dd>\n",
       "\t<dt>df5</dt>\n",
       "\t\t<dd>0.000652834647206914</dd>\n",
       "\t<dt>df6</dt>\n",
       "\t\t<dd>0.000275394866730895</dd>\n",
       "\t<dt>df7</dt>\n",
       "\t\t<dd>0.369122990396027</dd>\n",
       "\t<dt>df8</dt>\n",
       "\t\t<dd>2.85140832488995e-07</dd>\n",
       "\t<dt>df9</dt>\n",
       "\t\t<dd>2.39782596353749e-40</dd>\n",
       "\t<dt>df10</dt>\n",
       "\t\t<dd>9.24592532639022e-34</dd>\n",
       "</dl>\n"
      ],
      "text/latex": [
       "\\begin{description*}\n",
       "\\item[df1] 0.788420382772156\n",
       "\\item[df2] 0.60118296818855\n",
       "\\item[df3] 1.45055827711718e-06\n",
       "\\item[df4] 0.24374888068557\n",
       "\\item[df5] 0.000652834647206914\n",
       "\\item[df6] 0.000275394866730895\n",
       "\\item[df7] 0.369122990396027\n",
       "\\item[df8] 2.85140832488995e-07\n",
       "\\item[df9] 2.39782596353749e-40\n",
       "\\item[df10] 9.24592532639022e-34\n",
       "\\end{description*}\n"
      ],
      "text/markdown": [
       "df1\n",
       ":   0.788420382772156df2\n",
       ":   0.60118296818855df3\n",
       ":   1.45055827711718e-06df4\n",
       ":   0.24374888068557df5\n",
       ":   0.000652834647206914df6\n",
       ":   0.000275394866730895df7\n",
       ":   0.369122990396027df8\n",
       ":   2.85140832488995e-07df9\n",
       ":   2.39782596353749e-40df10\n",
       ":   9.24592532639022e-34\n",
       "\n"
      ],
      "text/plain": [
       "         df1          df2          df3          df4          df5          df6 \n",
       "7.884204e-01 6.011830e-01 1.450558e-06 2.437489e-01 6.528346e-04 2.753949e-04 \n",
       "         df7          df8          df9         df10 \n",
       "3.691230e-01 2.851408e-07 2.397826e-40 9.245925e-34 "
      ]
     },
     "metadata": {},
     "output_type": "display_data"
    },
    {
     "data": {
      "text/html": [
       "<dl class=dl-horizontal>\n",
       "\t<dt>df1</dt>\n",
       "\t\t<dd>0.788420382772156</dd>\n",
       "\t<dt>df2</dt>\n",
       "\t\t<dd>0.60118296818855</dd>\n",
       "\t<dt>df3</dt>\n",
       "\t\t<dd>1.45055827711718e-06</dd>\n",
       "\t<dt>df4</dt>\n",
       "\t\t<dd>0.24374888068557</dd>\n",
       "\t<dt>df5</dt>\n",
       "\t\t<dd>0.000652834647206914</dd>\n",
       "\t<dt>df6</dt>\n",
       "\t\t<dd>0.000275394866730895</dd>\n",
       "\t<dt>df7</dt>\n",
       "\t\t<dd>0.369122990396027</dd>\n",
       "\t<dt>df8</dt>\n",
       "\t\t<dd>2.85140832488995e-07</dd>\n",
       "\t<dt>df9</dt>\n",
       "\t\t<dd>2.39782596353749e-40</dd>\n",
       "\t<dt>df10</dt>\n",
       "\t\t<dd>9.24592532639022e-34</dd>\n",
       "</dl>\n"
      ],
      "text/latex": [
       "\\begin{description*}\n",
       "\\item[df1] 0.788420382772156\n",
       "\\item[df2] 0.60118296818855\n",
       "\\item[df3] 1.45055827711718e-06\n",
       "\\item[df4] 0.24374888068557\n",
       "\\item[df5] 0.000652834647206914\n",
       "\\item[df6] 0.000275394866730895\n",
       "\\item[df7] 0.369122990396027\n",
       "\\item[df8] 2.85140832488995e-07\n",
       "\\item[df9] 2.39782596353749e-40\n",
       "\\item[df10] 9.24592532639022e-34\n",
       "\\end{description*}\n"
      ],
      "text/markdown": [
       "df1\n",
       ":   0.788420382772156df2\n",
       ":   0.60118296818855df3\n",
       ":   1.45055827711718e-06df4\n",
       ":   0.24374888068557df5\n",
       ":   0.000652834647206914df6\n",
       ":   0.000275394866730895df7\n",
       ":   0.369122990396027df8\n",
       ":   2.85140832488995e-07df9\n",
       ":   2.39782596353749e-40df10\n",
       ":   9.24592532639022e-34\n",
       "\n"
      ],
      "text/plain": [
       "         df1          df2          df3          df4          df5          df6 \n",
       "7.884204e-01 6.011830e-01 1.450558e-06 2.437489e-01 6.528346e-04 2.753949e-04 \n",
       "         df7          df8          df9         df10 \n",
       "3.691230e-01 2.851408e-07 2.397826e-40 9.245925e-34 "
      ]
     },
     "metadata": {},
     "output_type": "display_data"
    },
    {
     "data": {
      "text/plain": [
       "$df1\n",
       "\n",
       "\tWelch Two Sample t-test\n",
       "\n",
       "data:  x$x1 and x$x2\n",
       "t = 0.26912, df = 94.88, p-value = 0.7884\n",
       "alternative hypothesis: true difference in means is not equal to 0\n",
       "95 percent confidence interval:\n",
       " -0.8613967  1.1315584\n",
       "sample estimates:\n",
       "mean of x mean of y \n",
       " 1.581920  1.446839 \n",
       "\n",
       "\n",
       "$df2\n",
       "\n",
       "\tWelch Two Sample t-test\n",
       "\n",
       "data:  x$x1 and x$x2\n",
       "t = 0.52508, df = 70.168, p-value = 0.6012\n",
       "alternative hypothesis: true difference in means is not equal to 0\n",
       "95 percent confidence interval:\n",
       " -0.5911522  1.0136767\n",
       "sample estimates:\n",
       "mean of x mean of y \n",
       " 1.726126  1.514864 \n",
       "\n",
       "\n",
       "$df3\n",
       "\n",
       "\tWelch Two Sample t-test\n",
       "\n",
       "data:  x$x1 and x$x2\n",
       "t = 5.2978, df = 65.938, p-value = 1.451e-06\n",
       "alternative hypothesis: true difference in means is not equal to 0\n",
       "95 percent confidence interval:\n",
       " 0.9091684 2.0089037\n",
       "sample estimates:\n",
       "mean of x mean of y \n",
       " 2.517173  1.058137 \n",
       "\n",
       "\n",
       "$df4\n",
       "\n",
       "\tWelch Two Sample t-test\n",
       "\n",
       "data:  x$x1 and x$x2\n",
       "t = 1.1728, df = 97.404, p-value = 0.2437\n",
       "alternative hypothesis: true difference in means is not equal to 0\n",
       "95 percent confidence interval:\n",
       " -0.3095994  1.2040701\n",
       "sample estimates:\n",
       "mean of x mean of y \n",
       " 3.723651  3.276416 \n",
       "\n",
       "\n",
       "$df5\n",
       "\n",
       "\tWelch Two Sample t-test\n",
       "\n",
       "data:  x$x1 and x$x2\n",
       "t = -3.5659, df = 71.205, p-value = 0.0006528\n",
       "alternative hypothesis: true difference in means is not equal to 0\n",
       "95 percent confidence interval:\n",
       " -0.4978577 -0.1407737\n",
       "sample estimates:\n",
       " mean of x  mean of y \n",
       "0.04162554 0.36094123 \n",
       "\n",
       "\n",
       "$df6\n",
       "\n",
       "\tWelch Two Sample t-test\n",
       "\n",
       "data:  x$x1 and x$x2\n",
       "t = -3.9193, df = 49.047, p-value = 0.0002754\n",
       "alternative hypothesis: true difference in means is not equal to 0\n",
       "95 percent confidence interval:\n",
       " -1.9895818 -0.6408753\n",
       "sample estimates:\n",
       "mean of x mean of y \n",
       "0.7389746 2.0542031 \n",
       "\n",
       "\n",
       "$df7\n",
       "\n",
       "\tWelch Two Sample t-test\n",
       "\n",
       "data:  x$x1 and x$x2\n",
       "t = -0.90312, df = 81.504, p-value = 0.3691\n",
       "alternative hypothesis: true difference in means is not equal to 0\n",
       "95 percent confidence interval:\n",
       " -0.7984673  0.2998795\n",
       "sample estimates:\n",
       "mean of x mean of y \n",
       " 4.578168  4.827462 \n",
       "\n",
       "\n",
       "$df8\n",
       "\n",
       "\tWelch Two Sample t-test\n",
       "\n",
       "data:  x$x1 and x$x2\n",
       "t = -5.9443, df = 49.001, p-value = 2.851e-07\n",
       "alternative hypothesis: true difference in means is not equal to 0\n",
       "95 percent confidence interval:\n",
       " -1.6939923 -0.8380034\n",
       "sample estimates:\n",
       "mean of x mean of y \n",
       "0.5841385 1.8501363 \n",
       "\n",
       "\n",
       "$df9\n",
       "\n",
       "\tWelch Two Sample t-test\n",
       "\n",
       "data:  x$x1 and x$x2\n",
       "t = -28.313, df = 70.809, p-value < 2.2e-16\n",
       "alternative hypothesis: true difference in means is not equal to 0\n",
       "95 percent confidence interval:\n",
       " -2.494094 -2.165896\n",
       "sample estimates:\n",
       "mean of x mean of y \n",
       " 2.487120  4.817115 \n",
       "\n",
       "\n",
       "$df10\n",
       "\n",
       "\tWelch Two Sample t-test\n",
       "\n",
       "data:  x$x1 and x$x2\n",
       "t = -19.945, df = 84.755, p-value < 2.2e-16\n",
       "alternative hypothesis: true difference in means is not equal to 0\n",
       "95 percent confidence interval:\n",
       " -3.835663 -3.140227\n",
       "sample estimates:\n",
       "mean of x mean of y \n",
       "0.8728505 4.3607954 \n",
       "\n"
      ]
     },
     "metadata": {},
     "output_type": "display_data"
    }
   ],
   "source": [
    "#sapply\n",
    "\n",
    "#sapply, like List-apply (lapply) takes a list-like object and applies a function over each element\n",
    "#The difference is that, instead of returning a list, sapply will guess whether you want a list or a vector or a matrix\n",
    "#and return that object.\n",
    "\n",
    "#for example, our above use of lapply to get the p-values returned a list of p-values\n",
    "#this is maybe not the greatest thing because now you have to follow list indexing rules which are awkward at best.\n",
    "#so, instead we can get a vector of p-values out by calling sapply instead of lapply.\n",
    "#It's the same format as above, so we can call:\n",
    "sapply(df.list, function(x) t.test(x$x1, x$x2)$p.value)\n",
    "       \n",
    "#Now, where lapply would maybe be better is if we wanted to retain all of the information from\n",
    "#the t.test function and refer back to it later\n",
    "t.tests <- lapply(df.list, function(x) t.test(x$x1, x$x2))\n",
    "\n",
    "#we can then use sapply to extract the p-values or whatever we want\n",
    "p.val.results <- sapply(t.tests, function(x) x$p.value)\n",
    "                        \n",
    "p.val.results\n",
    "                        \n",
    "t.tests\n"
   ]
  },
  {
   "cell_type": "code",
   "execution_count": 15,
   "metadata": {},
   "outputs": [
    {
     "data": {
      "text/html": [
       "<ol class=list-inline>\n",
       "\t<li>-1.91151716267841</li>\n",
       "\t<li>3.60778514604633</li>\n",
       "\t<li>2.04488068228404</li>\n",
       "\t<li>1.71141991169123</li>\n",
       "\t<li>3.92805898992154</li>\n",
       "\t<li>1.20489842664398</li>\n",
       "\t<li>3.48233268258281</li>\n",
       "\t<li>1.65313162259282</li>\n",
       "\t<li>4.67261753215707</li>\n",
       "\t<li>2.1480387279338</li>\n",
       "\t<li>2.00698499783354</li>\n",
       "\t<li>3.54122323089425</li>\n",
       "\t<li>4.26169978122632</li>\n",
       "\t<li>-1.36576098999085</li>\n",
       "\t<li>-0.402776943157264</li>\n",
       "\t<li>2.08221674089277</li>\n",
       "\t<li>0.148767528056587</li>\n",
       "\t<li>3.30282661344562</li>\n",
       "\t<li>-1.56783881633923</li>\n",
       "\t<li>1.03728571446621</li>\n",
       "\t<li>1.5293802606889</li>\n",
       "\t<li>3.62022152769536</li>\n",
       "\t<li>2.79394143482122</li>\n",
       "\t<li>0.666488069899427</li>\n",
       "\t<li>1.06577273966606</li>\n",
       "\t<li>0.911448523239033</li>\n",
       "\t<li>-0.787949859771528</li>\n",
       "\t<li>0.270531729683479</li>\n",
       "\t<li>3.13669181833821</li>\n",
       "\t<li>-0.813582987994252</li>\n",
       "\t<li>1.90035589526709</li>\n",
       "\t<li>0.690224985090275</li>\n",
       "\t<li>1.33178877472331</li>\n",
       "\t<li>2.80767626665696</li>\n",
       "\t<li>-0.755837005434032</li>\n",
       "\t<li>1.23087386883342</li>\n",
       "\t<li>-0.04970837321094</li>\n",
       "\t<li>2.6408374608095</li>\n",
       "\t<li>1.55875914268053</li>\n",
       "\t<li>3.3777497481814</li>\n",
       "\t<li>3.62611859776416</li>\n",
       "\t<li>-0.688776413898555</li>\n",
       "\t<li>-1.45909526969749</li>\n",
       "\t<li>3.24995713720747</li>\n",
       "\t<li>1.56324766155116</li>\n",
       "\t<li>1.26933291700129</li>\n",
       "\t<li>1.26684323751593</li>\n",
       "\t<li>0.533811945946727</li>\n",
       "\t<li>2.48698289237782</li>\n",
       "\t<li>1.15859451117512</li>\n",
       "</ol>\n"
      ],
      "text/latex": [
       "\\begin{enumerate*}\n",
       "\\item -1.91151716267841\n",
       "\\item 3.60778514604633\n",
       "\\item 2.04488068228404\n",
       "\\item 1.71141991169123\n",
       "\\item 3.92805898992154\n",
       "\\item 1.20489842664398\n",
       "\\item 3.48233268258281\n",
       "\\item 1.65313162259282\n",
       "\\item 4.67261753215707\n",
       "\\item 2.1480387279338\n",
       "\\item 2.00698499783354\n",
       "\\item 3.54122323089425\n",
       "\\item 4.26169978122632\n",
       "\\item -1.36576098999085\n",
       "\\item -0.402776943157264\n",
       "\\item 2.08221674089277\n",
       "\\item 0.148767528056587\n",
       "\\item 3.30282661344562\n",
       "\\item -1.56783881633923\n",
       "\\item 1.03728571446621\n",
       "\\item 1.5293802606889\n",
       "\\item 3.62022152769536\n",
       "\\item 2.79394143482122\n",
       "\\item 0.666488069899427\n",
       "\\item 1.06577273966606\n",
       "\\item 0.911448523239033\n",
       "\\item -0.787949859771528\n",
       "\\item 0.270531729683479\n",
       "\\item 3.13669181833821\n",
       "\\item -0.813582987994252\n",
       "\\item 1.90035589526709\n",
       "\\item 0.690224985090275\n",
       "\\item 1.33178877472331\n",
       "\\item 2.80767626665696\n",
       "\\item -0.755837005434032\n",
       "\\item 1.23087386883342\n",
       "\\item -0.04970837321094\n",
       "\\item 2.6408374608095\n",
       "\\item 1.55875914268053\n",
       "\\item 3.3777497481814\n",
       "\\item 3.62611859776416\n",
       "\\item -0.688776413898555\n",
       "\\item -1.45909526969749\n",
       "\\item 3.24995713720747\n",
       "\\item 1.56324766155116\n",
       "\\item 1.26933291700129\n",
       "\\item 1.26684323751593\n",
       "\\item 0.533811945946727\n",
       "\\item 2.48698289237782\n",
       "\\item 1.15859451117512\n",
       "\\end{enumerate*}\n"
      ],
      "text/markdown": [
       "1. -1.91151716267841\n",
       "2. 3.60778514604633\n",
       "3. 2.04488068228404\n",
       "4. 1.71141991169123\n",
       "5. 3.92805898992154\n",
       "6. 1.20489842664398\n",
       "7. 3.48233268258281\n",
       "8. 1.65313162259282\n",
       "9. 4.67261753215707\n",
       "10. 2.1480387279338\n",
       "11. 2.00698499783354\n",
       "12. 3.54122323089425\n",
       "13. 4.26169978122632\n",
       "14. -1.36576098999085\n",
       "15. -0.402776943157264\n",
       "16. 2.08221674089277\n",
       "17. 0.148767528056587\n",
       "18. 3.30282661344562\n",
       "19. -1.56783881633923\n",
       "20. 1.03728571446621\n",
       "21. 1.5293802606889\n",
       "22. 3.62022152769536\n",
       "23. 2.79394143482122\n",
       "24. 0.666488069899427\n",
       "25. 1.06577273966606\n",
       "26. 0.911448523239033\n",
       "27. -0.787949859771528\n",
       "28. 0.270531729683479\n",
       "29. 3.13669181833821\n",
       "30. -0.813582987994252\n",
       "31. 1.90035589526709\n",
       "32. 0.690224985090275\n",
       "33. 1.33178877472331\n",
       "34. 2.80767626665696\n",
       "35. -0.755837005434032\n",
       "36. 1.23087386883342\n",
       "37. -0.04970837321094\n",
       "38. 2.6408374608095\n",
       "39. 1.55875914268053\n",
       "40. 3.3777497481814\n",
       "41. 3.62611859776416\n",
       "42. -0.688776413898555\n",
       "43. -1.45909526969749\n",
       "44. 3.24995713720747\n",
       "45. 1.56324766155116\n",
       "46. 1.26933291700129\n",
       "47. 1.26684323751593\n",
       "48. 0.533811945946727\n",
       "49. 2.48698289237782\n",
       "50. 1.15859451117512\n",
       "\n",
       "\n"
      ],
      "text/plain": [
       " [1] -1.91151716  3.60778515  2.04488068  1.71141991  3.92805899  1.20489843\n",
       " [7]  3.48233268  1.65313162  4.67261753  2.14803873  2.00698500  3.54122323\n",
       "[13]  4.26169978 -1.36576099 -0.40277694  2.08221674  0.14876753  3.30282661\n",
       "[19] -1.56783882  1.03728571  1.52938026  3.62022153  2.79394143  0.66648807\n",
       "[25]  1.06577274  0.91144852 -0.78794986  0.27053173  3.13669182 -0.81358299\n",
       "[31]  1.90035590  0.69022499  1.33178877  2.80767627 -0.75583701  1.23087387\n",
       "[37] -0.04970837  2.64083746  1.55875914  3.37774975  3.62611860 -0.68877641\n",
       "[43] -1.45909527  3.24995714  1.56324766  1.26933292  1.26684324  0.53381195\n",
       "[49]  2.48698289  1.15859451"
      ]
     },
     "metadata": {},
     "output_type": "display_data"
    },
    {
     "data": {
      "text/html": [
       "<dl class=dl-horizontal>\n",
       "\t<dt>x1</dt>\n",
       "\t\t<dd>1.58191953019165</dd>\n",
       "\t<dt>x2</dt>\n",
       "\t\t<dd>1.44683869594076</dd>\n",
       "</dl>\n"
      ],
      "text/latex": [
       "\\begin{description*}\n",
       "\\item[x1] 1.58191953019165\n",
       "\\item[x2] 1.44683869594076\n",
       "\\end{description*}\n"
      ],
      "text/markdown": [
       "x1\n",
       ":   1.58191953019165x2\n",
       ":   1.44683869594076\n",
       "\n"
      ],
      "text/plain": [
       "      x1       x2 \n",
       "1.581920 1.446839 "
      ]
     },
     "metadata": {},
     "output_type": "display_data"
    }
   ],
   "source": [
    "#apply\n",
    "#Apply is used for matrix-like objects\n",
    "#So, matrices or data.frames\n",
    "\n",
    "\n",
    "#From our list of data.frames, let's just one of theme\n",
    "#Remember, [[index]] get's the object and not a list containing the object!\n",
    "single.df <- df.list[[1]]\n",
    "\n",
    "#Apply has an extra required argument when compared to lapply/sapply\n",
    "#The argument is called \"Margin\" meaning what axis to apply the function over\n",
    "#You could apply it to each row or each column\n",
    "#You can remember what margin (1 or 2) means what by remembering how to index on matrices\n",
    "#if you have a matrix called MATRIX, you index by MATRIX[ROW, COLUMN]\n",
    "#so, ROW is the first index, so it is margin 1\n",
    "#likewise, COLUMN is the second index, so it is margin 2\n",
    "\n",
    "#So, if we apply to single.df the function `mean` on each row, it'd look like this:\n",
    "apply(single.df, 1, mean)\n",
    "#N.B. notice that instead of doing apply(single.df, 1, function(x) mean)\n",
    "#I did apply(single.df, 1, mean)\n",
    "#mean is a function object in R, so apply just assumes to put the row/column as the argument to the function mean\n",
    "#you could equally do apply(single.df, 1, function(x) mean(x)) if you want to be more explicit. \n",
    "#Up to you\n",
    "\n",
    "#Likewise we can apply mean to both columns with margin equal to 2:\n",
    "apply(single.df, 2, mean)"
   ]
  },
  {
   "cell_type": "code",
   "execution_count": 16,
   "metadata": {},
   "outputs": [],
   "source": [
    "#reading data\n",
    "\n",
    "#In RStudio, you can do this interactively with \"Import Dataset\" in the top right of the window\n",
    "#basic form: read.`type`(path, options)\n",
    "ratData <- read.table(\n",
    "    \"./dataFiles/rat_KD.txt\",\n",
    "    header=T,\n",
    "    row.names=1\n",
    ")"
   ]
  },
  {
   "cell_type": "code",
   "execution_count": 17,
   "metadata": {
    "scrolled": false
   },
   "outputs": [
    {
     "data": {
      "text/html": [
       "11"
      ],
      "text/latex": [
       "11"
      ],
      "text/markdown": [
       "11"
      ],
      "text/plain": [
       "[1] 11"
      ]
     },
     "metadata": {},
     "output_type": "display_data"
    },
    {
     "data": {
      "text/html": [
       "15923"
      ],
      "text/latex": [
       "15923"
      ],
      "text/markdown": [
       "15923"
      ],
      "text/plain": [
       "[1] 15923"
      ]
     },
     "metadata": {},
     "output_type": "display_data"
    },
    {
     "data": {
      "text/html": [
       "180.237430285455"
      ],
      "text/latex": [
       "180.237430285455"
      ],
      "text/markdown": [
       "180.237430285455"
      ],
      "text/plain": [
       "[1] 180.2374"
      ]
     },
     "metadata": {},
     "output_type": "display_data"
    },
    {
     "data": {
      "text/html": [
       "<dl class=dl-horizontal>\n",
       "\t<dt>control.diet.19300</dt>\n",
       "\t\t<dd>180.237430285455</dd>\n",
       "\t<dt>control.diet.19301</dt>\n",
       "\t\t<dd>180.171667462846</dd>\n",
       "\t<dt>control.diet.19302</dt>\n",
       "\t\t<dd>180.0602907675</dd>\n",
       "\t<dt>control.diet.19303</dt>\n",
       "\t\t<dd>180.851004878044</dd>\n",
       "\t<dt>control.diet.19304</dt>\n",
       "\t\t<dd>179.968331882453</dd>\n",
       "\t<dt>control.diet.19305</dt>\n",
       "\t\t<dd>184.077788248264</dd>\n",
       "\t<dt>ketogenic.diet.19306</dt>\n",
       "\t\t<dd>183.388014190875</dd>\n",
       "\t<dt>ketogenic.diet.19307</dt>\n",
       "\t\t<dd>185.416908450173</dd>\n",
       "\t<dt>ketogenic.diet.19308</dt>\n",
       "\t\t<dd>186.541537359643</dd>\n",
       "\t<dt>ketogenic.diet.19309</dt>\n",
       "\t\t<dd>184.216884312485</dd>\n",
       "\t<dt>ketogenic.diet.19310</dt>\n",
       "\t\t<dd>182.199126855517</dd>\n",
       "</dl>\n"
      ],
      "text/latex": [
       "\\begin{description*}\n",
       "\\item[control.diet.19300] 180.237430285455\n",
       "\\item[control.diet.19301] 180.171667462846\n",
       "\\item[control.diet.19302] 180.0602907675\n",
       "\\item[control.diet.19303] 180.851004878044\n",
       "\\item[control.diet.19304] 179.968331882453\n",
       "\\item[control.diet.19305] 184.077788248264\n",
       "\\item[ketogenic.diet.19306] 183.388014190875\n",
       "\\item[ketogenic.diet.19307] 185.416908450173\n",
       "\\item[ketogenic.diet.19308] 186.541537359643\n",
       "\\item[ketogenic.diet.19309] 184.216884312485\n",
       "\\item[ketogenic.diet.19310] 182.199126855517\n",
       "\\end{description*}\n"
      ],
      "text/markdown": [
       "control.diet.19300\n",
       ":   180.237430285455control.diet.19301\n",
       ":   180.171667462846control.diet.19302\n",
       ":   180.0602907675control.diet.19303\n",
       ":   180.851004878044control.diet.19304\n",
       ":   179.968331882453control.diet.19305\n",
       ":   184.077788248264ketogenic.diet.19306\n",
       ":   183.388014190875ketogenic.diet.19307\n",
       ":   185.416908450173ketogenic.diet.19308\n",
       ":   186.541537359643ketogenic.diet.19309\n",
       ":   184.216884312485ketogenic.diet.19310\n",
       ":   182.199126855517\n",
       "\n"
      ],
      "text/plain": [
       "  control.diet.19300   control.diet.19301   control.diet.19302 \n",
       "            180.2374             180.1717             180.0603 \n",
       "  control.diet.19303   control.diet.19304   control.diet.19305 \n",
       "            180.8510             179.9683             184.0778 \n",
       "ketogenic.diet.19306 ketogenic.diet.19307 ketogenic.diet.19308 \n",
       "            183.3880             185.4169             186.5415 \n",
       "ketogenic.diet.19309 ketogenic.diet.19310 \n",
       "            184.2169             182.1991 "
      ]
     },
     "metadata": {},
     "output_type": "display_data"
    },
    {
     "data": {
      "text/html": [
       "<dl class=dl-horizontal>\n",
       "\t<dt>AFFX-BioB-5_at</dt>\n",
       "\t\t<dd>88.6301181818182</dd>\n",
       "\t<dt>AFFX-BioB-M_at</dt>\n",
       "\t\t<dd>108.792018181818</dd>\n",
       "\t<dt>AFFX-BioB-3_at</dt>\n",
       "\t\t<dd>45.3780454545455</dd>\n",
       "\t<dt>AFFX-BioC-5_at</dt>\n",
       "\t\t<dd>189.516090909091</dd>\n",
       "\t<dt>AFFX-BioC-3_at</dt>\n",
       "\t\t<dd>113.0306</dd>\n",
       "\t<dt>AFFX-BioDn-5_at</dt>\n",
       "\t\t<dd>164.402181818182</dd>\n",
       "\t<dt>AFFX-BioDn-3_at</dt>\n",
       "\t\t<dd>1187.43363636364</dd>\n",
       "\t<dt>AFFX-CreX-5_at</dt>\n",
       "\t\t<dd>1970.96090909091</dd>\n",
       "\t<dt>AFFX-CreX-3_at</dt>\n",
       "\t\t<dd>2738.66</dd>\n",
       "\t<dt>AFFX-DapX-5_at</dt>\n",
       "\t\t<dd>11.2185909090909</dd>\n",
       "</dl>\n"
      ],
      "text/latex": [
       "\\begin{description*}\n",
       "\\item[AFFX-BioB-5\\textbackslash{}\\_at] 88.6301181818182\n",
       "\\item[AFFX-BioB-M\\textbackslash{}\\_at] 108.792018181818\n",
       "\\item[AFFX-BioB-3\\textbackslash{}\\_at] 45.3780454545455\n",
       "\\item[AFFX-BioC-5\\textbackslash{}\\_at] 189.516090909091\n",
       "\\item[AFFX-BioC-3\\textbackslash{}\\_at] 113.0306\n",
       "\\item[AFFX-BioDn-5\\textbackslash{}\\_at] 164.402181818182\n",
       "\\item[AFFX-BioDn-3\\textbackslash{}\\_at] 1187.43363636364\n",
       "\\item[AFFX-CreX-5\\textbackslash{}\\_at] 1970.96090909091\n",
       "\\item[AFFX-CreX-3\\textbackslash{}\\_at] 2738.66\n",
       "\\item[AFFX-DapX-5\\textbackslash{}\\_at] 11.2185909090909\n",
       "\\end{description*}\n"
      ],
      "text/markdown": [
       "AFFX-BioB-5_at\n",
       ":   88.6301181818182AFFX-BioB-M_at\n",
       ":   108.792018181818AFFX-BioB-3_at\n",
       ":   45.3780454545455AFFX-BioC-5_at\n",
       ":   189.516090909091AFFX-BioC-3_at\n",
       ":   113.0306AFFX-BioDn-5_at\n",
       ":   164.402181818182AFFX-BioDn-3_at\n",
       ":   1187.43363636364AFFX-CreX-5_at\n",
       ":   1970.96090909091AFFX-CreX-3_at\n",
       ":   2738.66AFFX-DapX-5_at\n",
       ":   11.2185909090909\n",
       "\n"
      ],
      "text/plain": [
       " AFFX-BioB-5_at  AFFX-BioB-M_at  AFFX-BioB-3_at  AFFX-BioC-5_at  AFFX-BioC-3_at \n",
       "       88.63012       108.79202        45.37805       189.51609       113.03060 \n",
       "AFFX-BioDn-5_at AFFX-BioDn-3_at  AFFX-CreX-5_at  AFFX-CreX-3_at  AFFX-DapX-5_at \n",
       "      164.40218      1187.43364      1970.96091      2738.66000        11.21859 "
      ]
     },
     "metadata": {},
     "output_type": "display_data"
    },
    {
     "data": {
      "text/html": [
       "<table>\n",
       "<caption>A data.frame: 6 × 5</caption>\n",
       "<thead>\n",
       "\t<tr><th></th><th scope=col>control.diet.19300</th><th scope=col>control.diet.19301</th><th scope=col>control.diet.19302</th><th scope=col>control.diet.19303</th><th scope=col>control.diet.19304</th></tr>\n",
       "\t<tr><th></th><th scope=col>&lt;dbl&gt;</th><th scope=col>&lt;dbl&gt;</th><th scope=col>&lt;dbl&gt;</th><th scope=col>&lt;dbl&gt;</th><th scope=col>&lt;dbl&gt;</th></tr>\n",
       "</thead>\n",
       "<tbody>\n",
       "\t<tr><th scope=row>AFFX-BioB-5_at</th><td>6.256301</td><td>6.427351</td><td>6.333542</td><td>6.552191</td><td>6.192232</td></tr>\n",
       "\t<tr><th scope=row>AFFX-BioB-M_at</th><td>6.565442</td><td>6.198643</td><td>6.470522</td><td>6.801586</td><td>6.525626</td></tr>\n",
       "\t<tr><th scope=row>AFFX-BioB-3_at</th><td>4.801340</td><td>5.477292</td><td>5.082464</td><td>5.907492</td><td>5.294485</td></tr>\n",
       "\t<tr><th scope=row>AFFX-BioC-5_at</th><td>7.445752</td><td>7.246256</td><td>7.387406</td><td>7.647300</td><td>7.415556</td></tr>\n",
       "\t<tr><th scope=row>AFFX-BioC-3_at</th><td>6.443416</td><td>6.555118</td><td>6.910289</td><td>6.840211</td><td>6.646624</td></tr>\n",
       "\t<tr><th scope=row>AFFX-BioDn-5_at</th><td>7.229953</td><td>7.081798</td><td>7.352123</td><td>7.417009</td><td>7.283524</td></tr>\n",
       "</tbody>\n",
       "</table>\n"
      ],
      "text/latex": [
       "A data.frame: 6 × 5\n",
       "\\begin{tabular}{r|lllll}\n",
       "  & control.diet.19300 & control.diet.19301 & control.diet.19302 & control.diet.19303 & control.diet.19304\\\\\n",
       "  & <dbl> & <dbl> & <dbl> & <dbl> & <dbl>\\\\\n",
       "\\hline\n",
       "\tAFFX-BioB-5\\_at & 6.256301 & 6.427351 & 6.333542 & 6.552191 & 6.192232\\\\\n",
       "\tAFFX-BioB-M\\_at & 6.565442 & 6.198643 & 6.470522 & 6.801586 & 6.525626\\\\\n",
       "\tAFFX-BioB-3\\_at & 4.801340 & 5.477292 & 5.082464 & 5.907492 & 5.294485\\\\\n",
       "\tAFFX-BioC-5\\_at & 7.445752 & 7.246256 & 7.387406 & 7.647300 & 7.415556\\\\\n",
       "\tAFFX-BioC-3\\_at & 6.443416 & 6.555118 & 6.910289 & 6.840211 & 6.646624\\\\\n",
       "\tAFFX-BioDn-5\\_at & 7.229953 & 7.081798 & 7.352123 & 7.417009 & 7.283524\\\\\n",
       "\\end{tabular}\n"
      ],
      "text/markdown": [
       "\n",
       "A data.frame: 6 × 5\n",
       "\n",
       "| <!--/--> | control.diet.19300 &lt;dbl&gt; | control.diet.19301 &lt;dbl&gt; | control.diet.19302 &lt;dbl&gt; | control.diet.19303 &lt;dbl&gt; | control.diet.19304 &lt;dbl&gt; |\n",
       "|---|---|---|---|---|---|\n",
       "| AFFX-BioB-5_at | 6.256301 | 6.427351 | 6.333542 | 6.552191 | 6.192232 |\n",
       "| AFFX-BioB-M_at | 6.565442 | 6.198643 | 6.470522 | 6.801586 | 6.525626 |\n",
       "| AFFX-BioB-3_at | 4.801340 | 5.477292 | 5.082464 | 5.907492 | 5.294485 |\n",
       "| AFFX-BioC-5_at | 7.445752 | 7.246256 | 7.387406 | 7.647300 | 7.415556 |\n",
       "| AFFX-BioC-3_at | 6.443416 | 6.555118 | 6.910289 | 6.840211 | 6.646624 |\n",
       "| AFFX-BioDn-5_at | 7.229953 | 7.081798 | 7.352123 | 7.417009 | 7.283524 |\n",
       "\n"
      ],
      "text/plain": [
       "                control.diet.19300 control.diet.19301 control.diet.19302\n",
       "AFFX-BioB-5_at  6.256301           6.427351           6.333542          \n",
       "AFFX-BioB-M_at  6.565442           6.198643           6.470522          \n",
       "AFFX-BioB-3_at  4.801340           5.477292           5.082464          \n",
       "AFFX-BioC-5_at  7.445752           7.246256           7.387406          \n",
       "AFFX-BioC-3_at  6.443416           6.555118           6.910289          \n",
       "AFFX-BioDn-5_at 7.229953           7.081798           7.352123          \n",
       "                control.diet.19303 control.diet.19304\n",
       "AFFX-BioB-5_at  6.552191           6.192232          \n",
       "AFFX-BioB-M_at  6.801586           6.525626          \n",
       "AFFX-BioB-3_at  5.907492           5.294485          \n",
       "AFFX-BioC-5_at  7.647300           7.415556          \n",
       "AFFX-BioC-3_at  6.840211           6.646624          \n",
       "AFFX-BioDn-5_at 7.417009           7.283524          "
      ]
     },
     "metadata": {},
     "output_type": "display_data"
    },
    {
     "data": {
      "text/html": [
       "<dl class=dl-horizontal>\n",
       "\t<dt>AFFX-BioB-5_at</dt>\n",
       "\t\t<dd>0.32</dd>\n",
       "\t<dt>AFFX-BioB-M_at</dt>\n",
       "\t\t<dd>0.00304</dd>\n",
       "\t<dt>AFFX-BioB-3_at</dt>\n",
       "\t\t<dd>0.195</dd>\n",
       "\t<dt>AFFX-BioC-5_at</dt>\n",
       "\t\t<dd>0.0374</dd>\n",
       "\t<dt>AFFX-BioC-3_at</dt>\n",
       "\t\t<dd>0.0176</dd>\n",
       "\t<dt>AFFX-BioDn-5_at</dt>\n",
       "\t\t<dd>0.0401</dd>\n",
       "\t<dt>AFFX-BioDn-3_at</dt>\n",
       "\t\t<dd>0.494</dd>\n",
       "\t<dt>AFFX-CreX-5_at</dt>\n",
       "\t\t<dd>0.0983</dd>\n",
       "\t<dt>AFFX-CreX-3_at</dt>\n",
       "\t\t<dd>0.814</dd>\n",
       "\t<dt>AFFX-DapX-5_at</dt>\n",
       "\t\t<dd>0.0178</dd>\n",
       "</dl>\n"
      ],
      "text/latex": [
       "\\begin{description*}\n",
       "\\item[AFFX-BioB-5\\textbackslash{}\\_at] 0.32\n",
       "\\item[AFFX-BioB-M\\textbackslash{}\\_at] 0.00304\n",
       "\\item[AFFX-BioB-3\\textbackslash{}\\_at] 0.195\n",
       "\\item[AFFX-BioC-5\\textbackslash{}\\_at] 0.0374\n",
       "\\item[AFFX-BioC-3\\textbackslash{}\\_at] 0.0176\n",
       "\\item[AFFX-BioDn-5\\textbackslash{}\\_at] 0.0401\n",
       "\\item[AFFX-BioDn-3\\textbackslash{}\\_at] 0.494\n",
       "\\item[AFFX-CreX-5\\textbackslash{}\\_at] 0.0983\n",
       "\\item[AFFX-CreX-3\\textbackslash{}\\_at] 0.814\n",
       "\\item[AFFX-DapX-5\\textbackslash{}\\_at] 0.0178\n",
       "\\end{description*}\n"
      ],
      "text/markdown": [
       "AFFX-BioB-5_at\n",
       ":   0.32AFFX-BioB-M_at\n",
       ":   0.00304AFFX-BioB-3_at\n",
       ":   0.195AFFX-BioC-5_at\n",
       ":   0.0374AFFX-BioC-3_at\n",
       ":   0.0176AFFX-BioDn-5_at\n",
       ":   0.0401AFFX-BioDn-3_at\n",
       ":   0.494AFFX-CreX-5_at\n",
       ":   0.0983AFFX-CreX-3_at\n",
       ":   0.814AFFX-DapX-5_at\n",
       ":   0.0178\n",
       "\n"
      ],
      "text/plain": [
       " AFFX-BioB-5_at  AFFX-BioB-M_at  AFFX-BioB-3_at  AFFX-BioC-5_at  AFFX-BioC-3_at \n",
       "        0.32000         0.00304         0.19500         0.03740         0.01760 \n",
       "AFFX-BioDn-5_at AFFX-BioDn-3_at  AFFX-CreX-5_at  AFFX-CreX-3_at  AFFX-DapX-5_at \n",
       "        0.04010         0.49400         0.09830         0.81400         0.01780 "
      ]
     },
     "metadata": {},
     "output_type": "display_data"
    },
    {
     "data": {
      "text/html": [
       "<dl class=dl-horizontal>\n",
       "\t<dt>AFFX-BioB-5_at</dt>\n",
       "\t\t<dd>0.329</dd>\n",
       "\t<dt>AFFX-BioB-M_at</dt>\n",
       "\t\t<dd>0.00433</dd>\n",
       "\t<dt>AFFX-BioB-3_at</dt>\n",
       "\t\t<dd>0.247</dd>\n",
       "\t<dt>AFFX-BioC-5_at</dt>\n",
       "\t\t<dd>0.0519</dd>\n",
       "\t<dt>AFFX-BioC-3_at</dt>\n",
       "\t\t<dd>0.0303</dd>\n",
       "\t<dt>AFFX-BioDn-5_at</dt>\n",
       "\t\t<dd>0.0303</dd>\n",
       "\t<dt>AFFX-BioDn-3_at</dt>\n",
       "\t\t<dd>0.931</dd>\n",
       "\t<dt>AFFX-CreX-5_at</dt>\n",
       "\t\t<dd>0.177</dd>\n",
       "\t<dt>AFFX-CreX-3_at</dt>\n",
       "\t\t<dd>0.662</dd>\n",
       "\t<dt>AFFX-DapX-5_at</dt>\n",
       "\t\t<dd>0.00433</dd>\n",
       "</dl>\n"
      ],
      "text/latex": [
       "\\begin{description*}\n",
       "\\item[AFFX-BioB-5\\textbackslash{}\\_at] 0.329\n",
       "\\item[AFFX-BioB-M\\textbackslash{}\\_at] 0.00433\n",
       "\\item[AFFX-BioB-3\\textbackslash{}\\_at] 0.247\n",
       "\\item[AFFX-BioC-5\\textbackslash{}\\_at] 0.0519\n",
       "\\item[AFFX-BioC-3\\textbackslash{}\\_at] 0.0303\n",
       "\\item[AFFX-BioDn-5\\textbackslash{}\\_at] 0.0303\n",
       "\\item[AFFX-BioDn-3\\textbackslash{}\\_at] 0.931\n",
       "\\item[AFFX-CreX-5\\textbackslash{}\\_at] 0.177\n",
       "\\item[AFFX-CreX-3\\textbackslash{}\\_at] 0.662\n",
       "\\item[AFFX-DapX-5\\textbackslash{}\\_at] 0.00433\n",
       "\\end{description*}\n"
      ],
      "text/markdown": [
       "AFFX-BioB-5_at\n",
       ":   0.329AFFX-BioB-M_at\n",
       ":   0.00433AFFX-BioB-3_at\n",
       ":   0.247AFFX-BioC-5_at\n",
       ":   0.0519AFFX-BioC-3_at\n",
       ":   0.0303AFFX-BioDn-5_at\n",
       ":   0.0303AFFX-BioDn-3_at\n",
       ":   0.931AFFX-CreX-5_at\n",
       ":   0.177AFFX-CreX-3_at\n",
       ":   0.662AFFX-DapX-5_at\n",
       ":   0.00433\n",
       "\n"
      ],
      "text/plain": [
       " AFFX-BioB-5_at  AFFX-BioB-M_at  AFFX-BioB-3_at  AFFX-BioC-5_at  AFFX-BioC-3_at \n",
       "        0.32900         0.00433         0.24700         0.05190         0.03030 \n",
       "AFFX-BioDn-5_at AFFX-BioDn-3_at  AFFX-CreX-5_at  AFFX-CreX-3_at  AFFX-DapX-5_at \n",
       "        0.03030         0.93100         0.17700         0.66200         0.00433 "
      ]
     },
     "metadata": {},
     "output_type": "display_data"
    },
    {
     "data": {
      "text/plain": [
       "\n",
       "\tFisher's Exact Test for Count Data\n",
       "\n",
       "data:  matrix(round(runif(4, 10, 35), 0), nrow = 2)\n",
       "p-value = 0.1839\n",
       "alternative hypothesis: true odds ratio is not equal to 1\n",
       "95 percent confidence interval:\n",
       " 0.1944214 1.3707285\n",
       "sample estimates:\n",
       "odds ratio \n",
       " 0.5226981 \n"
      ]
     },
     "metadata": {},
     "output_type": "display_data"
    }
   ],
   "source": [
    "#basic statistical tests and data transformations\n",
    "\n",
    "#How many samples are there?\n",
    "ncol(ratData)\n",
    "\n",
    "#How many probes per sample?\n",
    "nrow(ratData)\n",
    "\n",
    "#Mean for sample 1?\n",
    "mean(ratData[, 1])\n",
    "#Mean for all samples individually?\n",
    "apply(ratData, 2, mean)\n",
    "#for each probe?\n",
    "apply(ratData[1:10, ], 1, mean)\n",
    "\n",
    "#Let's transform the data\n",
    "ratData.log <- log2(ratData)\n",
    "\n",
    "head(ratData.log[,1:5])\n",
    "\n",
    "\n",
    "#median will report the median\n",
    "#max or min, will report the max/min respecitvely\n",
    "\n",
    "#Let's do a t-test on the first 10 probes and get the p-values\n",
    "\n",
    "ratData.log.sub <- ratData.log[1:10, ] #rows 1 to 10, all columns\n",
    "#columns 1:6 are controls, columns 7:11 are the treatment\n",
    "\n",
    "ratData.ttest.sub <- apply(ratData.log.sub, 1, function(x) t.test(x[1:6], x[7:11], var.equal = T))\n",
    "\n",
    "sapply(ratData.ttest.sub, function(x) signif(x$p.value, 3))\n",
    "      \n",
    "#what if we didn't want to assume normality?\n",
    "ratData.mwu.sub <- apply(ratData.log.sub, 1, function(x) wilcox.test(x[1:6], x[7:11]))\n",
    "sapply(ratData.mwu.sub, function(x) signif(x$p.value, 3))\n",
    "      \n",
    "#count data:\n",
    "      \n",
    "#Let's make a simulated matrix:\n",
    "      \n",
    "fisher.test(\n",
    "    matrix(\n",
    "        round(runif(4, 10, 35), 0),\n",
    "        nrow = 2\n",
    "    )\n",
    ")\n",
    "\n",
    "      \n",
    "\n",
    "#other tests: aov (ANOVA), cor.test (linear correlation), ks.test (Kolmogorov-Smirnov), chisq.test(), etc,\n",
    "\n",
    "#lm() is for linear modeling, also not covered here\n",
    "#I'll cover a bevy of statistical tests in stats.ipynb on the GH repo if you want a more comprehensive look!"
   ]
  },
  {
   "cell_type": "code",
   "execution_count": 18,
   "metadata": {},
   "outputs": [
    {
     "ename": "ERROR",
     "evalue": "Error in corrplot(cor(ratData.log), title = \"Correlation Plot\"): could not find function \"corrplot\"\n",
     "output_type": "error",
     "traceback": [
      "Error in corrplot(cor(ratData.log), title = \"Correlation Plot\"): could not find function \"corrplot\"\nTraceback:\n"
     ]
    }
   ],
   "source": [
    "#installing packages\n",
    "\n",
    "#Sometimes you want to use non-base functions\n",
    "\n",
    "#e.g. let's install the library corrplot to make a correllogram\n",
    "\n",
    "#install.packages('corrplot') #installs the package into your profile\n",
    "#I have the above line commented out for use in the binder.\n",
    "#Common useful packages:\n",
    "#ggplot2, ggpubr, dplyr, magrittr, readxl, knitr\n",
    "\n",
    "#Bioconductor:\n",
    "#this is a suite of packages that are bioinformatics related and somewhat tricky to manage, but very useful\n",
    "#The bioconductor documentation is very very good usually\n",
    "#install by:\n",
    "#install.packages(\"BiocManager\")\n",
    "#install a bioconductor package with:\n",
    "#BiocManager::install(<package>)\n",
    "#e.g. I use ChIPpeakAnno a lot for integration site analyses\n",
    "#BiocManager::install(\"ChIPpeakAnno\")\n",
    "#library(ChIPpeakAnno)\n",
    "#There are also dataset packages that have listings for the human genome\n",
    "#e.g. TxDb.Hsapiens.UCSC.hg19.knownGene\n",
    "\n",
    "#The main function we care about is corrplot; if we just call it like this:\n",
    "\n",
    "corrplot(cor(ratData.log), title=\"Correlation Plot\")\n",
    "\n",
    "\n"
   ]
  },
  {
   "cell_type": "code",
   "execution_count": 19,
   "metadata": {},
   "outputs": [
    {
     "name": "stderr",
     "output_type": "stream",
     "text": [
      "Warning message:\n",
      "\"package 'corrplot' was built under R version 3.6.3\"corrplot 0.84 loaded\n"
     ]
    },
    {
     "data": {
      "image/png": "[encoded data removed]",
      "text/plain": [
       "Plot with title \"\""
      ]
     },
     "metadata": {},
     "output_type": "display_data"
    }
   ],
   "source": [
    "library(corrplot) #makes the library functions available\n",
    "\n",
    "corrplot(cor(ratData.log))\n"
   ]
  },
  {
   "cell_type": "code",
   "execution_count": 20,
   "metadata": {},
   "outputs": [
    {
     "data": {
      "image/png": "[encoded data removed]",
      "text/plain": [
       "Plot with title \"Histogram of t-test p-values\""
      ]
     },
     "metadata": {},
     "output_type": "display_data"
    }
   ],
   "source": [
    "#practical\n",
    "\n",
    "#Okay, let's go through a whole set of analyses with the rat data\n",
    "\n",
    "#We're going to repeat a couple of steps, but that's okay\n",
    "\n",
    "#Read in the data from the file:\n",
    "ratData <- read.table(\"./dataFiles/rat_KD.txt\", header=T, row.names=1)\n",
    "\n",
    "#log2 transform:\n",
    "ratData.log <- log2(ratData)\n",
    "\n",
    "#Let's perform t-tests on all of the probes and observe the distribution of p-values\n",
    "#This will also serve as a brief introduction to plotting in base-R\n",
    "#There is another jupyter notebook on the GH repo that talks about using ggplot2\n",
    "\n",
    "#This will take a second to run\n",
    "ratData.p <- apply(ratData.log, 1, function(x) t.test(x[1:6], x[7:11], var.equal=T)$p.value)\n",
    "                   \n",
    "#Observe distribution of p-values via a histogram\n",
    "\n",
    "hist(\n",
    "    ratData.p,\n",
    "    main=\"Histogram of t-test p-values\",\n",
    "    xlab=\"p Value\"\n",
    ")"
   ]
  },
  {
   "cell_type": "code",
   "execution_count": 21,
   "metadata": {},
   "outputs": [
    {
     "data": {
      "text/html": [
       "5160"
      ],
      "text/latex": [
       "5160"
      ],
      "text/markdown": [
       "5160"
      ],
      "text/plain": [
       "[1] 5160"
      ]
     },
     "metadata": {},
     "output_type": "display_data"
    },
    {
     "data": {
      "text/html": [
       "2414"
      ],
      "text/latex": [
       "2414"
      ],
      "text/markdown": [
       "2414"
      ],
      "text/plain": [
       "[1] 2414"
      ]
     },
     "metadata": {},
     "output_type": "display_data"
    },
    {
     "data": {
      "text/html": [
       "<ol class=list-inline>\n",
       "\t<li>'holm'</li>\n",
       "\t<li>'hochberg'</li>\n",
       "\t<li>'hommel'</li>\n",
       "\t<li>'bonferroni'</li>\n",
       "\t<li>'BH'</li>\n",
       "\t<li>'BY'</li>\n",
       "\t<li>'fdr'</li>\n",
       "\t<li>'none'</li>\n",
       "</ol>\n"
      ],
      "text/latex": [
       "\\begin{enumerate*}\n",
       "\\item 'holm'\n",
       "\\item 'hochberg'\n",
       "\\item 'hommel'\n",
       "\\item 'bonferroni'\n",
       "\\item 'BH'\n",
       "\\item 'BY'\n",
       "\\item 'fdr'\n",
       "\\item 'none'\n",
       "\\end{enumerate*}\n"
      ],
      "text/markdown": [
       "1. 'holm'\n",
       "2. 'hochberg'\n",
       "3. 'hommel'\n",
       "4. 'bonferroni'\n",
       "5. 'BH'\n",
       "6. 'BY'\n",
       "7. 'fdr'\n",
       "8. 'none'\n",
       "\n",
       "\n"
      ],
      "text/plain": [
       "[1] \"holm\"       \"hochberg\"   \"hommel\"     \"bonferroni\" \"BH\"        \n",
       "[6] \"BY\"         \"fdr\"        \"none\"      "
      ]
     },
     "metadata": {},
     "output_type": "display_data"
    },
    {
     "data": {
      "text/html": [
       "8"
      ],
      "text/latex": [
       "8"
      ],
      "text/markdown": [
       "8"
      ],
      "text/plain": [
       "[1] 8"
      ]
     },
     "metadata": {},
     "output_type": "display_data"
    }
   ],
   "source": [
    "#Okay, there are a lot of potentially siginificant p-values\n",
    "#how many are below the standard 0.05 and 0.01\n",
    "\n",
    "#remember, TRUE and FALSE have numerical values!\n",
    "\n",
    "sum(ratData.p <0.05)\n",
    "sum(ratData.p <0.01)\n",
    "\n",
    "#we can also adjust p-values for multiple corrections\n",
    "\n",
    "#Valid methods -- you can google the differences if you so choose\n",
    "p.adjust.methods\n",
    "\n",
    "sum(p.adjust(ratData.p, \"bonferroni\") < 0.01)"
   ]
  },
  {
   "cell_type": "code",
   "execution_count": 22,
   "metadata": {},
   "outputs": [
    {
     "data": {
      "image/png": "[encoded data removed]",
      "text/plain": [
       "Plot with title \"PCA of Rat Diet Data\""
      ]
     },
     "metadata": {},
     "output_type": "display_data"
    }
   ],
   "source": [
    "#Let's visualize the data using dimensionality reduction\n",
    "\n",
    "#DR is basically taking high-dimensional data, and plotting in an x-y plane (or x-y-z)\n",
    "#(remember, rat data has ~16k data points/sample you can't visualize a 16k dimensional graph)\n",
    "\n",
    "#Let's set up a couple of variables that will be useful\n",
    "\n",
    "#sample type\n",
    "sample_type <- c(rep(1, 6), rep(2, 5)) #rep(x, n) is a function that replicates x, n times\n",
    "colors <- c(\"blue\", \"orange\")\n",
    "\n",
    "\n",
    "#Perform principal component analysis\n",
    "\n",
    "#This takes the n-dimensional data and projects it\n",
    "#t() is the transpose function\n",
    "#the transpose of a matrix is the matrix formed by the reversing the row-column indexes\n",
    "#e.g. mat[i,j] == t(mat[j, i])\n",
    "ratData.pca <- prcomp(t(ratData.log))\n",
    "\n",
    "#It is standard form to have the percent variance noted with each Principal compenent, so:\n",
    "pc1.var <- ratData.pca$sdev[1]^2 / sum(ratData.pca$sdev^2)\n",
    "#Remember, since we get a vector back from ratData.pca$sdev, performing ^2 on it squares every element\n",
    "#sdev is a vector of the standard deviations; we want the variances which is the square of sdev\n",
    "#plotting in two-dimensions so\n",
    "pc2.var <- ratData.pca$sdev[2]^2 /sum(ratData.pca$sdev^2)\n",
    "\n",
    "#okay, let's make a plot!\n",
    "#basic plot function to create the outline:\n",
    "\n",
    "plot(\n",
    "    #first two lines creates the axis ranges\n",
    "    x = range(ratData.pca$x[, 1]),\n",
    "    y = range(ratData.pca$x[, 2]),\n",
    "    #Don't plot the range points, just make the axes\n",
    "    type='n',\n",
    "    #Figure labels\n",
    "    #Title\n",
    "    main = \"PCA of Rat Diet Data\",\n",
    "    #X-axis label\n",
    "    xlab = paste0(\n",
    "        \"PC1 (\",\n",
    "        round(pc1.var * 100, 1),\n",
    "        \"% of Variance)\"\n",
    "    ),\n",
    "    #y-axis label\n",
    "    ylab = paste0(\n",
    "        \"PC2 (\",\n",
    "        round(pc2.var * 100, 1),\n",
    "        \"% of Variance)\"\n",
    "    )\n",
    ")\n",
    "#Add the data points\n",
    "points(\n",
    "    #Data points\n",
    "    x = ratData.pca$x[, 1],\n",
    "    y = ratData.pca$x[, 2],\n",
    "    #Color them by type\n",
    "    #colors is blue or pink, sample type is 1 or 2 so\n",
    "    col = colors[sample_type],\n",
    "    #pch -- point character\n",
    "    pch = 18   \n",
    ")\n",
    "#Add a legend\n",
    "legend(\n",
    "    \"bottomright\",\n",
    "    title=\"Diet Type\",\n",
    "    legend=c(\"Control\", \"Ketogenic\"),\n",
    "    col=colors,\n",
    "    pch=18\n",
    ")"
   ]
  },
  {
   "cell_type": "code",
   "execution_count": 23,
   "metadata": {},
   "outputs": [],
   "source": [
    "#Clearly the data are segregated, so let's look at those significant p-values we generated before\n",
    "#What effect on expression\n",
    "\n",
    "#Let's make a volcano plot comparing log-transformed p-values to the fold change in expression\n",
    "\n",
    "#First, let's transform the p-values\n",
    "\n",
    "ratData.Logp <- (-1)*log10(ratData.p) #Gives the order of magnitude of the p-values\n",
    "\n",
    "#Now, let's get the fold change\n",
    "#Remember, we're in log-space, so it's just the difference in the means\n",
    "\n",
    "ratData.control.mean <- apply(ratData.log[, 1:6], 1, mean)\n",
    "ratData.ketogenic.mean <- apply(ratData.log[, 7:11], 1, mean)\n",
    "\n",
    "ratData.foldChange <- ratData.ketogenic.mean - ratData.control.mean\n",
    "\n",
    "#Okay, we have all we need!"
   ]
  },
  {
   "cell_type": "code",
   "execution_count": 24,
   "metadata": {},
   "outputs": [
    {
     "data": {
      "image/png": "[encoded data removed]",
      "text/plain": [
       "Plot with title \"Volcano Plot for Rat Diet Data\""
      ]
     },
     "metadata": {},
     "output_type": "display_data"
    }
   ],
   "source": [
    "#First step, generate the axes:\n",
    "\n",
    "plot(\n",
    "    #Make the plot symmetrical about 0\n",
    "    #x-range goes from the negative absolute value of max fold change to positive value\n",
    "    x=range(\n",
    "        c(\n",
    "            -abs(max(ratData.foldChange)),\n",
    "            abs(max(ratData.foldChange))\n",
    "        )\n",
    "    ),\n",
    "    #y-range will be from 0 to the max value in the log-transformed p-values\n",
    "    y=range(\n",
    "        c(0, max(ratData.Logp))\n",
    "    ),\n",
    "    #don't show these points\n",
    "    type='n',\n",
    "    #Labels\n",
    "    #Title\n",
    "    main=\"Volcano Plot for Rat Diet Data\",\n",
    "    #x-axis\n",
    "    xlab=\"Fold Change\",\n",
    "    #y-axis\n",
    "    ylab=\"-log10(p-Value)\"\n",
    ")\n",
    "#Add points\n",
    "points(\n",
    "    x=ratData.foldChange,\n",
    "    y=ratData.Logp,\n",
    "    col='black',\n",
    "    pch=21\n",
    ")"
   ]
  },
  {
   "cell_type": "code",
   "execution_count": 25,
   "metadata": {},
   "outputs": [
    {
     "data": {
      "image/png": "[encoded data removed]",
      "text/plain": [
       "Plot with title \"Volcano Plot for Rat Diet Data\""
      ]
     },
     "metadata": {},
     "output_type": "display_data"
    }
   ],
   "source": [
    "#Okay, that's only somewhat helpful\n",
    "#Let's color the values that have a p-value that is significant at the 99% confidence level\n",
    "#Also, let's divide those colors into up-regulate (FC > 1) and down-regulate (FC < -1)\n",
    "\n",
    "plot(\n",
    "    #Make the plot symmetrical about 0\n",
    "    #x-range goes from the negative absolute value of max fold change to positive value\n",
    "    x=range(\n",
    "        c(\n",
    "            -abs(max(ratData.foldChange)),\n",
    "            abs(max(ratData.foldChange))\n",
    "        )\n",
    "    ),\n",
    "    #y-range will be from 0 to the max value in the log-transformed p-values\n",
    "    y=range(\n",
    "        c(0, max(ratData.Logp))\n",
    "    ),\n",
    "    #don't show these points\n",
    "    type='n',\n",
    "    #Labels\n",
    "    #Title\n",
    "    main=\"Volcano Plot for Rat Diet Data\",\n",
    "    #x-axis\n",
    "    xlab=\"Fold Change\",\n",
    "    #y-axis\n",
    "    ylab=\"-log10(p-Value)\"\n",
    ")\n",
    "#Add points\n",
    "points(\n",
    "    x=ratData.foldChange,\n",
    "    y=ratData.Logp,\n",
    "    col='black',\n",
    "    pch=21\n",
    ")\n",
    "#Color the points of interest\n",
    "points(\n",
    "    #Only the data points with significant p-values and up-regulation\n",
    "    x = ratData.foldChange[\n",
    "        ratData.foldChange > 1 & ratData.Logp > -log10(0.01)\n",
    "    ],\n",
    "    y = ratData.Logp[\n",
    "        ratData.foldChange > 1 & ratData.Logp > -log10(0.01)\n",
    "    ],\n",
    "    pch=19,\n",
    "    col=\"green\"\n",
    ")\n",
    "points(\n",
    "    #Only the data points with significant p-values and down-regulation\n",
    "    x = ratData.foldChange[\n",
    "        ratData.foldChange < -1 & ratData.Logp > -log10(0.01)\n",
    "    ],\n",
    "    y = ratData.Logp[\n",
    "        ratData.foldChange < -1 & ratData.Logp > -log10(0.01)\n",
    "    ],\n",
    "    pch=19,\n",
    "    col=\"red\"\n",
    ")\n"
   ]
  },
  {
   "cell_type": "code",
   "execution_count": 26,
   "metadata": {},
   "outputs": [
    {
     "data": {
      "image/png": "[encoded data removed]",
      "text/plain": [
       "Plot with title \"Volcano Plot for Rat Diet Data\""
      ]
     },
     "metadata": {},
     "output_type": "display_data"
    }
   ],
   "source": [
    "#One last thing:\n",
    "#Let's add lines to show the sextants\n",
    "\n",
    "#old plot from previous cell\n",
    "\n",
    "plot(\n",
    "    #Make the plot symmetrical about 0\n",
    "    #x-range goes from the negative absolute value of max fold change to positive value\n",
    "    x=range(\n",
    "        c(\n",
    "            -abs(max(ratData.foldChange)),\n",
    "            abs(max(ratData.foldChange))\n",
    "        )\n",
    "    ),\n",
    "    #y-range will be from 0 to the max value in the log-transformed p-values\n",
    "    y=range(\n",
    "        c(0, max(ratData.Logp))\n",
    "    ),\n",
    "    #don't show these points\n",
    "    type='n',\n",
    "    #Labels\n",
    "    #Title\n",
    "    main=\"Volcano Plot for Rat Diet Data\",\n",
    "    #x-axis\n",
    "    xlab=\"Fold Change\",\n",
    "    #y-axis\n",
    "    ylab=\"-log10(p-Value)\"\n",
    ")\n",
    "#Add points\n",
    "points(\n",
    "    x=ratData.foldChange,\n",
    "    y=ratData.Logp,\n",
    "    col='black',\n",
    "    pch=21\n",
    ")\n",
    "#Color the points of interest\n",
    "points(\n",
    "    #Only the data points with significant p-values and up-regulation\n",
    "    x = ratData.foldChange[\n",
    "        ratData.foldChange > 1 & ratData.Logp > -log10(0.01)\n",
    "    ],\n",
    "    y = ratData.Logp[\n",
    "        ratData.foldChange > 1 & ratData.Logp > -log10(0.01)\n",
    "    ],\n",
    "    pch=19,\n",
    "    col=\"green\"\n",
    ")\n",
    "points(\n",
    "    #Only the data points with significant p-values and down-regulation\n",
    "    x = ratData.foldChange[\n",
    "        ratData.foldChange < -1 & ratData.Logp > -log10(0.01)\n",
    "    ],\n",
    "    y = ratData.Logp[\n",
    "        ratData.foldChange < -1 & ratData.Logp > -log10(0.01)\n",
    "    ],\n",
    "    pch=19,\n",
    "    col=\"red\"\n",
    ")\n",
    "#abline is a function that just draws lines\n",
    "#let's add two vertical lines and a horizontal line\n",
    "abline(h = -log10(0.01))\n",
    "abline(v = -log2(2))\n",
    "abline(v = log2(2))\n",
    "\n",
    "#The h argument just draws a horizontal line acress the plot at y = h\n",
    "#Conversely, v does the same with a vertical line at v = x\n",
    "#Alternatively, draw a sloped line of form y = a + b*x with abline(a, b)"
   ]
  },
  {
   "cell_type": "code",
   "execution_count": null,
   "metadata": {},
   "outputs": [],
   "source": []
  }
 ],
 "metadata": {
  "kernelspec": {
   "display_name": "R",
   "language": "R",
   "name": "ir"
  },
  "language_info": {
   "codemirror_mode": "r",
   "file_extension": ".r",
   "mimetype": "text/x-r-source",
   "name": "R",
   "pygments_lexer": "r",
   "version": "3.6.1"
  }
 },
 "nbformat": 4,
 "nbformat_minor": 2
}
